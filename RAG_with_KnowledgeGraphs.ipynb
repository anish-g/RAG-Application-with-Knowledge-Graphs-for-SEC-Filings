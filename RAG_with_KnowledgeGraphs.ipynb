{
 "cells": [
  {
   "cell_type": "markdown",
   "id": "3fd07568",
   "metadata": {},
   "source": [
    "# RAG Application with Knowledge Graphs for SEC Filings"
   ]
  },
  {
   "cell_type": "markdown",
   "id": "401fdb4a",
   "metadata": {},
   "source": [
    "## Import packages and set-up Neo4j"
   ]
  },
  {
   "cell_type": "code",
   "execution_count": 1,
   "id": "6c012efd",
   "metadata": {},
   "outputs": [],
   "source": [
    "from dotenv import load_dotenv\n",
    "import os"
   ]
  },
  {
   "cell_type": "code",
   "execution_count": 2,
   "id": "cd1f2cc4",
   "metadata": {},
   "outputs": [],
   "source": [
    "import json\n",
    "import textwrap"
   ]
  },
  {
   "cell_type": "code",
   "execution_count": 3,
   "id": "117b9a55",
   "metadata": {},
   "outputs": [],
   "source": [
    "from langchain_community.graphs import Neo4jGraph\n",
    "from langchain_community.vectorstores import Neo4jVector\n",
    "from langchain_openai import OpenAIEmbeddings\n",
    "from langchain.text_splitter import RecursiveCharacterTextSplitter\n",
    "from langchain.chains import RetrievalQAWithSourcesChain\n",
    "from langchain_openai import ChatOpenAI\n",
    "from langchain.prompts.prompt import PromptTemplate\n",
    "from langchain.chains import GraphCypherQAChain"
   ]
  },
  {
   "cell_type": "code",
   "execution_count": 4,
   "id": "c9e30d50",
   "metadata": {},
   "outputs": [],
   "source": [
    "import warnings\n",
    "warnings.filterwarnings(\"ignore\")"
   ]
  },
  {
   "cell_type": "markdown",
   "id": "514dba20",
   "metadata": {},
   "source": [
    "Load API information for OpenAI and Neo4j from `.env` file"
   ]
  },
  {
   "cell_type": "code",
   "execution_count": 5,
   "id": "17224ffe",
   "metadata": {},
   "outputs": [],
   "source": [
    "load_dotenv('.env', override=True)\n",
    "NEO4J_URI = os.getenv('NEO4J_URI')\n",
    "NEO4J_USERNAME = os.getenv('NEO4J_USERNAME')\n",
    "NEO4J_PASSWORD = os.getenv('NEO4J_PASSWORD')\n",
    "NEO4J_DATABASE = os.getenv('NEO4J_DATABASE')\n",
    "AURA_INSTANCEID = os.getenv('AURA_INSTANCEID')\n",
    "AURA_INSTANCENAME = os.getenv('AURA_INSTANCENAME')\n",
    "OPENAI_API_KEY = os.getenv('OPENAI_API_KEY')"
   ]
  },
  {
   "cell_type": "code",
   "execution_count": 6,
   "id": "88de52f9",
   "metadata": {},
   "outputs": [],
   "source": [
    "VECTOR_INDEX_NAME = 'form_10k_chunks'\n",
    "VECTOR_NODE_LABEL = 'Chunk'\n",
    "VECTOR_SOURCE_PROPERTY = 'text'\n",
    "VECTOR_EMBEDDING_PROPERTY = 'textEmbedding'"
   ]
  },
  {
   "cell_type": "markdown",
   "id": "25ed609f",
   "metadata": {},
   "source": [
    "__Form 10-K JSON file__"
   ]
  },
  {
   "cell_type": "markdown",
   "id": "b720aee7",
   "metadata": {},
   "source": [
    "Working with a single 10-K form for a company called NetApp.  \n",
    "The data from 10-k form has already been extracted, cleaned and structured in the form of a JSON.  \n",
    "Data is taken from the __'Knowledge Graphs for RAG'__ course by __DeepLearning.AI__. "
   ]
  },
  {
   "cell_type": "code",
   "execution_count": 7,
   "id": "f35dabd7",
   "metadata": {},
   "outputs": [],
   "source": [
    "form_10k_file_name = \"data/0000950170-23-027948.json\"\n",
    "form_10k_object = json.load(open(form_10k_file_name))"
   ]
  },
  {
   "cell_type": "code",
   "execution_count": 8,
   "id": "c33ee238",
   "metadata": {},
   "outputs": [
    {
     "name": "stdout",
     "output_type": "stream",
     "text": [
      "item1 <class 'str'>\n",
      "item1a <class 'str'>\n",
      "item7 <class 'str'>\n",
      "item7a <class 'str'>\n",
      "cik <class 'str'>\n",
      "cusip6 <class 'str'>\n",
      "cusip <class 'list'>\n",
      "names <class 'list'>\n",
      "source <class 'str'>\n"
     ]
    }
   ],
   "source": [
    "for k, v in form_10k_object.items():\n",
    "    print(k, type(v))"
   ]
  },
  {
   "cell_type": "code",
   "execution_count": 9,
   "id": "702ab578",
   "metadata": {},
   "outputs": [],
   "source": [
    "item1_text = form_10k_object['item1']"
   ]
  },
  {
   "cell_type": "code",
   "execution_count": 10,
   "id": "ab32367a",
   "metadata": {},
   "outputs": [
    {
     "data": {
      "text/plain": [
       "'>Item 1.  \\nBusiness\\n\\n\\nOverview\\n\\n\\nNetApp, Inc. (NetApp, we, us or the Company) is a global cloud-led, data-centric software company. We were incorporated in 1992 and are headquartered in San Jose, California. Building on more than three decades of innovation, we give customers the freedom to manage applications and data across hybrid multicloud environments. Our portfolio of cloud services, and storage infrastructure, powered by intelligent data management software, enables applications to run faster, more reliably, and more securely, all at a lower cost.\\n\\n\\nOur opportunity is defined by the durable megatrends of data-driven digital and cloud transformations. NetApp helps organizations meet the complexities created by rapid data and cloud growth, multi-cloud management, and the adoption of next-generation technologies, such as AI, Kubernetes, and modern databases. Our modern approach to hybrid, multicloud infrastructure and data management, which we term ‘evolved cloud’, provides customers the ability to leverage data across their entire estate with simplicity, security, and sustainability which increases our relevance and value to our customers.\\n\\n\\nIn an evolved cloud state, the cloud is fully integrated into an organization’s architecture and operations. Data centers and clouds are seamlessly united and hybrid multicloud operations are simplified, with consistency and observability across environments. The key benefits NetApp brings to an organization’s hybrid multicloud environment are:\\n\\n\\n•\\nOperational simplicity: NetApp’s use of open source, open architectures and APIs, microservices, and common capabilities and data services facilitate the creation of applications that can run anywhere.\\n\\n\\n•\\nFlexibility and consistency: NetApp makes moving data and applications between environments seamless through a common storage foundation across on-premises and multicloud environments.\\n\\n\\n•\\nCyber resilience: NetApp unifies monitoring, data protection, security, governance, and c'"
      ]
     },
     "execution_count": 10,
     "metadata": {},
     "output_type": "execute_result"
    }
   ],
   "source": [
    "item1_text[:2000]"
   ]
  },
  {
   "cell_type": "markdown",
   "id": "c9b08754",
   "metadata": {},
   "source": [
    "__Split Form 10-K sections into chunks__"
   ]
  },
  {
   "cell_type": "markdown",
   "id": "5f4f55a7",
   "metadata": {},
   "source": [
    "Set up text splitter using LangChain"
   ]
  },
  {
   "cell_type": "code",
   "execution_count": 11,
   "id": "cbc502ad",
   "metadata": {},
   "outputs": [],
   "source": [
    "text_splitter = RecursiveCharacterTextSplitter(\n",
    "    chunk_size = 2000,\n",
    "    chunk_overlap = 200,\n",
    "    length_function = len,\n",
    "    is_separator_regex = False\n",
    ")"
   ]
  },
  {
   "cell_type": "code",
   "execution_count": 12,
   "id": "f7c69a49",
   "metadata": {},
   "outputs": [
    {
     "data": {
      "text/plain": [
       "list"
      ]
     },
     "execution_count": 12,
     "metadata": {},
     "output_type": "execute_result"
    }
   ],
   "source": [
    "item1_text_chunks = text_splitter.split_text(item1_text)\n",
    "type(item1_text_chunks)"
   ]
  },
  {
   "cell_type": "code",
   "execution_count": 13,
   "id": "00c6b361",
   "metadata": {},
   "outputs": [
    {
     "data": {
      "text/plain": [
       "254"
      ]
     },
     "execution_count": 13,
     "metadata": {},
     "output_type": "execute_result"
    }
   ],
   "source": [
    "len(item1_text_chunks)"
   ]
  },
  {
   "cell_type": "code",
   "execution_count": 14,
   "id": "cd937825",
   "metadata": {},
   "outputs": [
    {
     "data": {
      "text/plain": [
       "'Cloud storage, data services, and software\\n\\n\\nThe NetApp Cloud Volumes Platform is an integrated collection of cloud storage infrastructure and data services. The platform is anchored by \\nNetApp Cloud Volumes ONTAP\\n, a cloud-based software for customers who wish to manage their own cloud storage infrastructure. It is based on the same ONTAP data management software that underpins our storage infrastructure offerings. Fully managed cloud storage offerings are available natively on Microsoft Azure as \\nAzure NetApp Files\\n, on AWS as \\nAmazon FSx for NetApp ONTAP\\n, and on Google Cloud as \\nNetApp Cloud Volumes Service for Google Cloud.\\n \\n\\n\\nManageability\\n\\n\\nAt the heart of our public cloud storage and data service offerings is \\nNetApp\\n \\nBlueXP\\n. BlueXP is a unified control plane that enables customers to manage their entire data landscape through one single, SaaS-delivered point of control. NetApp BlueXP combines storage and data services via its unified control plane to change how hybrid, multicloud environments are managed, optimized, and controlled. An intuitive interface and powerful automation help decrease resource waste, complexity, and the risk of managing diverse environments. It brings customers operational simplicity in a complex world. Within BlueXP are standard and optional capabilities (services) which allow customers to control their data and operations.\\n\\n\\n7'"
      ]
     },
     "execution_count": 14,
     "metadata": {},
     "output_type": "execute_result"
    }
   ],
   "source": [
    "item1_text_chunks[5]"
   ]
  },
  {
   "cell_type": "markdown",
   "id": "68e09ceb",
   "metadata": {},
   "source": [
    "__Helper function to chunk all sections of the Form 10-K__"
   ]
  },
  {
   "cell_type": "code",
   "execution_count": 15,
   "id": "bdf39dfe",
   "metadata": {},
   "outputs": [],
   "source": [
    "def split_form10k_data_from_file(file):\n",
    "    chunks_with_metadata = [] # use this to accumlate chunk records\n",
    "    file_as_object = json.load(open(file)) # open the json file\n",
    "    for item in ['item1', 'item1a', 'item7', 'item7a']: # pull these keys from the json\n",
    "        print(f'Processing {item} from {file}')\n",
    "        item_text = file_as_object[item] # grab the text of the item\n",
    "        item_text_chunks = text_splitter.split_text(item_text) # split the text into chunks\n",
    "        chunk_seq_id = 0\n",
    "        for chunk in item_text_chunks[:20]: # only take the first 20 chunks\n",
    "            form_id = file[file.rindex('/') + 1:file.rindex('.')] # extract form id from file name\n",
    "            # finally, construct a record with metadata and the chunk text\n",
    "            chunks_with_metadata.append({\n",
    "                'text': chunk,\n",
    "                # metadata from looping...\n",
    "                'f10kItem': item,\n",
    "                'chunkSeqId': chunk_seq_id,\n",
    "                # constructed metadata...\n",
    "                'formId': f'{form_id}', # pulled from the filename\n",
    "                'chunkId': f'{form_id}-{item}-chunk{chunk_seq_id:04d}',\n",
    "                # metadata from file...\n",
    "                'names': file_as_object['names'],\n",
    "                'cik': file_as_object['cik'],\n",
    "                'cusip6': file_as_object['cusip6'],\n",
    "                'source': file_as_object['source'],\n",
    "            })\n",
    "            chunk_seq_id += 1\n",
    "        print(f'\\tSplit into {chunk_seq_id} chunks')\n",
    "    return chunks_with_metadata"
   ]
  },
  {
   "cell_type": "code",
   "execution_count": 16,
   "id": "0f80e880",
   "metadata": {},
   "outputs": [
    {
     "name": "stdout",
     "output_type": "stream",
     "text": [
      "Processing item1 from data/0000950170-23-027948.json\n",
      "\tSplit into 20 chunks\n",
      "Processing item1a from data/0000950170-23-027948.json\n",
      "\tSplit into 1 chunks\n",
      "Processing item7 from data/0000950170-23-027948.json\n",
      "\tSplit into 1 chunks\n",
      "Processing item7a from data/0000950170-23-027948.json\n",
      "\tSplit into 1 chunks\n"
     ]
    }
   ],
   "source": [
    "form10k_file_chunks = split_form10k_data_from_file(form_10k_file_name)"
   ]
  },
  {
   "cell_type": "code",
   "execution_count": 17,
   "id": "2c2497c3",
   "metadata": {},
   "outputs": [
    {
     "data": {
      "text/plain": [
       "{'text': '>Item 1.  \\nBusiness\\n\\n\\nOverview\\n\\n\\nNetApp, Inc. (NetApp, we, us or the Company) is a global cloud-led, data-centric software company. We were incorporated in 1992 and are headquartered in San Jose, California. Building on more than three decades of innovation, we give customers the freedom to manage applications and data across hybrid multicloud environments. Our portfolio of cloud services, and storage infrastructure, powered by intelligent data management software, enables applications to run faster, more reliably, and more securely, all at a lower cost.\\n\\n\\nOur opportunity is defined by the durable megatrends of data-driven digital and cloud transformations. NetApp helps organizations meet the complexities created by rapid data and cloud growth, multi-cloud management, and the adoption of next-generation technologies, such as AI, Kubernetes, and modern databases. Our modern approach to hybrid, multicloud infrastructure and data management, which we term ‘evolved cloud’, provides customers the ability to leverage data across their entire estate with simplicity, security, and sustainability which increases our relevance and value to our customers.\\n\\n\\nIn an evolved cloud state, the cloud is fully integrated into an organization’s architecture and operations. Data centers and clouds are seamlessly united and hybrid multicloud operations are simplified, with consistency and observability across environments. The key benefits NetApp brings to an organization’s hybrid multicloud environment are:\\n\\n\\n•\\nOperational simplicity: NetApp’s use of open source, open architectures and APIs, microservices, and common capabilities and data services facilitate the creation of applications that can run anywhere.\\n\\n\\n•\\nFlexibility and consistency: NetApp makes moving data and applications between environments seamless through a common storage foundation across on-premises and multicloud environments.',\n",
       " 'f10kItem': 'item1',\n",
       " 'chunkSeqId': 0,\n",
       " 'formId': '0000950170-23-027948',\n",
       " 'chunkId': '0000950170-23-027948-item1-chunk0000',\n",
       " 'names': ['Netapp Inc', 'NETAPP INC'],\n",
       " 'cik': '1002047',\n",
       " 'cusip6': '64110D',\n",
       " 'source': 'https://www.sec.gov/Archives/edgar/data/1002047/000095017023027948/0000950170-23-027948-index.htm'}"
      ]
     },
     "execution_count": 17,
     "metadata": {},
     "output_type": "execute_result"
    }
   ],
   "source": [
    "form10k_file_chunks[0]"
   ]
  },
  {
   "cell_type": "markdown",
   "id": "e2c52d16",
   "metadata": {},
   "source": [
    "__Create graph nodes using text chunks__"
   ]
  },
  {
   "cell_type": "code",
   "execution_count": 18,
   "id": "3a5e5a84",
   "metadata": {},
   "outputs": [],
   "source": [
    "merge_chunk_node_query = \"\"\"\n",
    "MERGE(mergedChunk:Chunk {chunkId: $chunkParam.chunkId})\n",
    "    ON CREATE SET\n",
    "        mergedChunk.names = $chunkParam.names,\n",
    "        mergedChunk.formId = $chunkParam.formId,\n",
    "        mergedChunk.cik = $chunkParam.cik,\n",
    "        mergedChunk.cusip6 = $chunkParam.cusip6,\n",
    "        mergedChunk.source = $chunkParam.source,\n",
    "        mergedChunk.f10kItem = $chunkParam.f10kItem,\n",
    "        mergedChunk.chunkSeqId = $chunkParam.chunkSeqId,\n",
    "        mergedChunk.text = $chunkParam.text\n",
    "RETURN mergedChunk\n",
    "\"\"\""
   ]
  },
  {
   "cell_type": "markdown",
   "id": "aa8a75c2",
   "metadata": {},
   "source": [
    "__Set up connection to graph instance using LangChain__"
   ]
  },
  {
   "cell_type": "code",
   "execution_count": 19,
   "id": "cbfa61ca",
   "metadata": {},
   "outputs": [],
   "source": [
    "kg = Neo4jGraph(\n",
    "    url=NEO4J_URI,\n",
    "    username=NEO4J_USERNAME,\n",
    "    password=NEO4J_PASSWORD,\n",
    "    database=NEO4J_DATABASE,\n",
    ")"
   ]
  },
  {
   "cell_type": "markdown",
   "id": "3396aa2c",
   "metadata": {},
   "source": [
    "__Test single chunk node__"
   ]
  },
  {
   "cell_type": "code",
   "execution_count": 20,
   "id": "bdefeae9",
   "metadata": {},
   "outputs": [
    {
     "data": {
      "text/plain": [
       "[{'mergedChunk': {'formId': '0000950170-23-027948',\n",
       "   'f10kItem': 'item1',\n",
       "   'names': ['Netapp Inc', 'NETAPP INC'],\n",
       "   'cik': '1002047',\n",
       "   'cusip6': '64110D',\n",
       "   'source': 'https://www.sec.gov/Archives/edgar/data/1002047/000095017023027948/0000950170-23-027948-index.htm',\n",
       "   'text': '>Item 1.  \\nBusiness\\n\\n\\nOverview\\n\\n\\nNetApp, Inc. (NetApp, we, us or the Company) is a global cloud-led, data-centric software company. We were incorporated in 1992 and are headquartered in San Jose, California. Building on more than three decades of innovation, we give customers the freedom to manage applications and data across hybrid multicloud environments. Our portfolio of cloud services, and storage infrastructure, powered by intelligent data management software, enables applications to run faster, more reliably, and more securely, all at a lower cost.\\n\\n\\nOur opportunity is defined by the durable megatrends of data-driven digital and cloud transformations. NetApp helps organizations meet the complexities created by rapid data and cloud growth, multi-cloud management, and the adoption of next-generation technologies, such as AI, Kubernetes, and modern databases. Our modern approach to hybrid, multicloud infrastructure and data management, which we term ‘evolved cloud’, provides customers the ability to leverage data across their entire estate with simplicity, security, and sustainability which increases our relevance and value to our customers.\\n\\n\\nIn an evolved cloud state, the cloud is fully integrated into an organization’s architecture and operations. Data centers and clouds are seamlessly united and hybrid multicloud operations are simplified, with consistency and observability across environments. The key benefits NetApp brings to an organization’s hybrid multicloud environment are:\\n\\n\\n•\\nOperational simplicity: NetApp’s use of open source, open architectures and APIs, microservices, and common capabilities and data services facilitate the creation of applications that can run anywhere.\\n\\n\\n•\\nFlexibility and consistency: NetApp makes moving data and applications between environments seamless through a common storage foundation across on-premises and multicloud environments.',\n",
       "   'chunkId': '0000950170-23-027948-item1-chunk0000',\n",
       "   'chunkSeqId': 0}}]"
      ]
     },
     "execution_count": 20,
     "metadata": {},
     "output_type": "execute_result"
    }
   ],
   "source": [
    "kg.query(merge_chunk_node_query, \n",
    "         params={'chunkParam':form10k_file_chunks[0]}\n",
    "        )"
   ]
  },
  {
   "cell_type": "markdown",
   "id": "6659cb57",
   "metadata": {},
   "source": [
    "__Uniqueness constraint to avoid duplicate chunks__"
   ]
  },
  {
   "cell_type": "code",
   "execution_count": 21,
   "id": "8ae8233b",
   "metadata": {},
   "outputs": [
    {
     "data": {
      "text/plain": [
       "[]"
      ]
     },
     "execution_count": 21,
     "metadata": {},
     "output_type": "execute_result"
    }
   ],
   "source": [
    "kg.query(\"\"\"\n",
    "CREATE CONSTRAINT unique_chunk IF NOT EXISTS\n",
    "    FOR (c:Chunk) REQUIRE c.chunkId IS UNIQUE\n",
    "\"\"\"\n",
    ")"
   ]
  },
  {
   "cell_type": "code",
   "execution_count": 22,
   "id": "6d639aad",
   "metadata": {},
   "outputs": [
    {
     "data": {
      "text/plain": [
       "[{'id': 0,\n",
       "  'name': 'index_343aff4e',\n",
       "  'state': 'ONLINE',\n",
       "  'populationPercent': 100.0,\n",
       "  'type': 'LOOKUP',\n",
       "  'entityType': 'NODE',\n",
       "  'labelsOrTypes': None,\n",
       "  'properties': None,\n",
       "  'indexProvider': 'token-lookup-1.0',\n",
       "  'owningConstraint': None,\n",
       "  'lastRead': None,\n",
       "  'readCount': 0},\n",
       " {'id': 1,\n",
       "  'name': 'index_f7700477',\n",
       "  'state': 'ONLINE',\n",
       "  'populationPercent': 100.0,\n",
       "  'type': 'LOOKUP',\n",
       "  'entityType': 'RELATIONSHIP',\n",
       "  'labelsOrTypes': None,\n",
       "  'properties': None,\n",
       "  'indexProvider': 'token-lookup-1.0',\n",
       "  'owningConstraint': None,\n",
       "  'lastRead': None,\n",
       "  'readCount': 0},\n",
       " {'id': 2,\n",
       "  'name': 'unique_chunk',\n",
       "  'state': 'ONLINE',\n",
       "  'populationPercent': 100.0,\n",
       "  'type': 'RANGE',\n",
       "  'entityType': 'NODE',\n",
       "  'labelsOrTypes': ['Chunk'],\n",
       "  'properties': ['chunkId'],\n",
       "  'indexProvider': 'range-1.0',\n",
       "  'owningConstraint': 'unique_chunk',\n",
       "  'lastRead': None,\n",
       "  'readCount': 0}]"
      ]
     },
     "execution_count": 22,
     "metadata": {},
     "output_type": "execute_result"
    }
   ],
   "source": [
    "kg.query(\"\"\"\n",
    "SHOW INDEXES\n",
    "\"\"\"\n",
    ")"
   ]
  },
  {
   "cell_type": "markdown",
   "id": "a908045d",
   "metadata": {},
   "source": [
    "__Loop through and create nodes for all chunks__"
   ]
  },
  {
   "cell_type": "code",
   "execution_count": 23,
   "id": "57319e95",
   "metadata": {},
   "outputs": [
    {
     "name": "stdout",
     "output_type": "stream",
     "text": [
      "Creating `:Chunk` node for chunk ID 0000950170-23-027948-item1-chunk0000\n",
      "Creating `:Chunk` node for chunk ID 0000950170-23-027948-item1-chunk0001\n",
      "Creating `:Chunk` node for chunk ID 0000950170-23-027948-item1-chunk0002\n",
      "Creating `:Chunk` node for chunk ID 0000950170-23-027948-item1-chunk0003\n",
      "Creating `:Chunk` node for chunk ID 0000950170-23-027948-item1-chunk0004\n",
      "Creating `:Chunk` node for chunk ID 0000950170-23-027948-item1-chunk0005\n",
      "Creating `:Chunk` node for chunk ID 0000950170-23-027948-item1-chunk0006\n",
      "Creating `:Chunk` node for chunk ID 0000950170-23-027948-item1-chunk0007\n",
      "Creating `:Chunk` node for chunk ID 0000950170-23-027948-item1-chunk0008\n",
      "Creating `:Chunk` node for chunk ID 0000950170-23-027948-item1-chunk0009\n",
      "Creating `:Chunk` node for chunk ID 0000950170-23-027948-item1-chunk0010\n",
      "Creating `:Chunk` node for chunk ID 0000950170-23-027948-item1-chunk0011\n",
      "Creating `:Chunk` node for chunk ID 0000950170-23-027948-item1-chunk0012\n",
      "Creating `:Chunk` node for chunk ID 0000950170-23-027948-item1-chunk0013\n",
      "Creating `:Chunk` node for chunk ID 0000950170-23-027948-item1-chunk0014\n",
      "Creating `:Chunk` node for chunk ID 0000950170-23-027948-item1-chunk0015\n",
      "Creating `:Chunk` node for chunk ID 0000950170-23-027948-item1-chunk0016\n",
      "Creating `:Chunk` node for chunk ID 0000950170-23-027948-item1-chunk0017\n",
      "Creating `:Chunk` node for chunk ID 0000950170-23-027948-item1-chunk0018\n",
      "Creating `:Chunk` node for chunk ID 0000950170-23-027948-item1-chunk0019\n",
      "Creating `:Chunk` node for chunk ID 0000950170-23-027948-item1a-chunk0000\n",
      "Creating `:Chunk` node for chunk ID 0000950170-23-027948-item7-chunk0000\n",
      "Creating `:Chunk` node for chunk ID 0000950170-23-027948-item7a-chunk0000\n",
      "Created 23 nodes\n"
     ]
    }
   ],
   "source": [
    "node_count = 0\n",
    "for chunk in form10k_file_chunks:\n",
    "    print(f\"Creating `:Chunk` node for chunk ID {chunk['chunkId']}\")\n",
    "    kg.query(merge_chunk_node_query,\n",
    "            params={\n",
    "                'chunkParam': chunk\n",
    "            })\n",
    "    node_count += 1\n",
    "print(f\"Created {node_count} nodes\")"
   ]
  },
  {
   "cell_type": "code",
   "execution_count": 24,
   "id": "268078fe",
   "metadata": {},
   "outputs": [
    {
     "data": {
      "text/plain": [
       "[{'nodeCount': 23}]"
      ]
     },
     "execution_count": 24,
     "metadata": {},
     "output_type": "execute_result"
    }
   ],
   "source": [
    "kg.query(\"\"\"\n",
    "    MATCH(n)\n",
    "    RETURN count(n) as nodeCount\n",
    "    \"\"\")"
   ]
  },
  {
   "cell_type": "markdown",
   "id": "5ecbd5d6",
   "metadata": {},
   "source": [
    "__Create a vector index__"
   ]
  },
  {
   "cell_type": "code",
   "execution_count": 25,
   "id": "458a2638",
   "metadata": {},
   "outputs": [
    {
     "data": {
      "text/plain": [
       "[]"
      ]
     },
     "execution_count": 25,
     "metadata": {},
     "output_type": "execute_result"
    }
   ],
   "source": [
    "kg.query(\"\"\"\n",
    "    CREATE VECTOR INDEX `form_10k_chunks` IF NOT EXISTS\n",
    "        FOR (c:Chunk) ON (c.textEmbedding)\n",
    "        OPTIONS { indexConfig: {\n",
    "            `vector.dimensions`: 1536,\n",
    "            `vector.similarity_function`: 'cosine'\n",
    "        }}\n",
    "    \"\"\"\n",
    ")"
   ]
  },
  {
   "cell_type": "code",
   "execution_count": 26,
   "id": "354d3624",
   "metadata": {},
   "outputs": [
    {
     "data": {
      "text/plain": [
       "[{'id': 4,\n",
       "  'name': 'form_10k_chunks',\n",
       "  'state': 'ONLINE',\n",
       "  'populationPercent': 100.0,\n",
       "  'type': 'VECTOR',\n",
       "  'entityType': 'NODE',\n",
       "  'labelsOrTypes': ['Chunk'],\n",
       "  'properties': ['textEmbedding'],\n",
       "  'indexProvider': 'vector-2.0',\n",
       "  'owningConstraint': None,\n",
       "  'lastRead': None,\n",
       "  'readCount': None},\n",
       " {'id': 0,\n",
       "  'name': 'index_343aff4e',\n",
       "  'state': 'ONLINE',\n",
       "  'populationPercent': 100.0,\n",
       "  'type': 'LOOKUP',\n",
       "  'entityType': 'NODE',\n",
       "  'labelsOrTypes': None,\n",
       "  'properties': None,\n",
       "  'indexProvider': 'token-lookup-1.0',\n",
       "  'owningConstraint': None,\n",
       "  'lastRead': None,\n",
       "  'readCount': 0},\n",
       " {'id': 1,\n",
       "  'name': 'index_f7700477',\n",
       "  'state': 'ONLINE',\n",
       "  'populationPercent': 100.0,\n",
       "  'type': 'LOOKUP',\n",
       "  'entityType': 'RELATIONSHIP',\n",
       "  'labelsOrTypes': None,\n",
       "  'properties': None,\n",
       "  'indexProvider': 'token-lookup-1.0',\n",
       "  'owningConstraint': None,\n",
       "  'lastRead': None,\n",
       "  'readCount': 0},\n",
       " {'id': 2,\n",
       "  'name': 'unique_chunk',\n",
       "  'state': 'ONLINE',\n",
       "  'populationPercent': 100.0,\n",
       "  'type': 'RANGE',\n",
       "  'entityType': 'NODE',\n",
       "  'labelsOrTypes': ['Chunk'],\n",
       "  'properties': ['chunkId'],\n",
       "  'indexProvider': 'range-1.0',\n",
       "  'owningConstraint': 'unique_chunk',\n",
       "  'lastRead': neo4j.time.DateTime(2024, 7, 15, 18, 27, 40, 592000000, tzinfo=<UTC>),\n",
       "  'readCount': 67}]"
      ]
     },
     "execution_count": 26,
     "metadata": {},
     "output_type": "execute_result"
    }
   ],
   "source": [
    "kg.query(\"\"\"\n",
    "SHOW INDEXES\n",
    "\"\"\"\n",
    ")"
   ]
  },
  {
   "cell_type": "markdown",
   "id": "56b0ba79",
   "metadata": {},
   "source": [
    "__Calculate embedding vectors for chunks and populate index__"
   ]
  },
  {
   "cell_type": "code",
   "execution_count": 27,
   "id": "c0b93e61",
   "metadata": {},
   "outputs": [
    {
     "data": {
      "text/plain": [
       "[]"
      ]
     },
     "execution_count": 27,
     "metadata": {},
     "output_type": "execute_result"
    }
   ],
   "source": [
    "kg.query(\"\"\"\n",
    "    MATCH (chunk:Chunk) WHERE chunk.textEmbedding IS NULL\n",
    "    WITH chunk, genai.vector.encode(\n",
    "        chunk.text,\n",
    "        \"OpenAI\",\n",
    "        {token: $openAiApiKey}\n",
    "    ) AS vector\n",
    "    CALL db.create.setNodeVectorProperty(chunk, \"textEmbedding\", vector)\n",
    "\"\"\",\n",
    "    params={\"openAiApiKey\":OPENAI_API_KEY}\n",
    ")"
   ]
  },
  {
   "cell_type": "code",
   "execution_count": 28,
   "id": "740210fc",
   "metadata": {},
   "outputs": [
    {
     "name": "stdout",
     "output_type": "stream",
     "text": [
      "Node properties:\n",
      "Chunk {chunkId: STRING, names: LIST, formId: STRING, cik: STRING, cusip6: STRING, source: STRING, f10kItem: STRING, chunkSeqId: INTEGER, text: STRING, textEmbedding: LIST}\n",
      "Relationship properties:\n",
      "\n",
      "The relationships:\n",
      "\n"
     ]
    }
   ],
   "source": [
    "kg.refresh_schema()\n",
    "print(kg.schema)"
   ]
  },
  {
   "cell_type": "markdown",
   "id": "1a9a1772",
   "metadata": {},
   "source": [
    "__Similarity search to find relevant chunks__"
   ]
  },
  {
   "cell_type": "code",
   "execution_count": 29,
   "id": "a7316cdd",
   "metadata": {},
   "outputs": [],
   "source": [
    "def neo4j_vector_search(question):\n",
    "    \"\"\"Search for similar nodes using the Neo4j vector index\"\"\"\n",
    "    vector_search_query = \"\"\"\n",
    "        WITH genai.vector.encode($question, \"OpenAI\", {token: $openAiApiKey}) AS question_embedding\n",
    "        CALL db.index.vector.queryNodes($index_name, $top_k, question_embedding) yield node, score\n",
    "        RETURN score, node.text AS text\n",
    "    \"\"\"\n",
    "    similar = kg.query(vector_search_query,\n",
    "                      params={\n",
    "                          'question': question,\n",
    "                          'openAiApiKey': OPENAI_API_KEY,\n",
    "                          'index_name': VECTOR_INDEX_NAME,\n",
    "                          'top_k': 10\n",
    "                      })\n",
    "    return similar"
   ]
  },
  {
   "cell_type": "code",
   "execution_count": 30,
   "id": "1e2a0dd4",
   "metadata": {},
   "outputs": [],
   "source": [
    "search_results = neo4j_vector_search(\n",
    "    'In a single sentence, tell me about Netapp.'\n",
    ")"
   ]
  },
  {
   "cell_type": "code",
   "execution_count": 31,
   "id": "79876a25",
   "metadata": {},
   "outputs": [
    {
     "data": {
      "text/plain": [
       "{'score': 0.9356337785720825,\n",
       " 'text': '>Item 1.  \\nBusiness\\n\\n\\nOverview\\n\\n\\nNetApp, Inc. (NetApp, we, us or the Company) is a global cloud-led, data-centric software company. We were incorporated in 1992 and are headquartered in San Jose, California. Building on more than three decades of innovation, we give customers the freedom to manage applications and data across hybrid multicloud environments. Our portfolio of cloud services, and storage infrastructure, powered by intelligent data management software, enables applications to run faster, more reliably, and more securely, all at a lower cost.\\n\\n\\nOur opportunity is defined by the durable megatrends of data-driven digital and cloud transformations. NetApp helps organizations meet the complexities created by rapid data and cloud growth, multi-cloud management, and the adoption of next-generation technologies, such as AI, Kubernetes, and modern databases. Our modern approach to hybrid, multicloud infrastructure and data management, which we term ‘evolved cloud’, provides customers the ability to leverage data across their entire estate with simplicity, security, and sustainability which increases our relevance and value to our customers.\\n\\n\\nIn an evolved cloud state, the cloud is fully integrated into an organization’s architecture and operations. Data centers and clouds are seamlessly united and hybrid multicloud operations are simplified, with consistency and observability across environments. The key benefits NetApp brings to an organization’s hybrid multicloud environment are:\\n\\n\\n•\\nOperational simplicity: NetApp’s use of open source, open architectures and APIs, microservices, and common capabilities and data services facilitate the creation of applications that can run anywhere.\\n\\n\\n•\\nFlexibility and consistency: NetApp makes moving data and applications between environments seamless through a common storage foundation across on-premises and multicloud environments.'}"
      ]
     },
     "execution_count": 31,
     "metadata": {},
     "output_type": "execute_result"
    }
   ],
   "source": [
    "search_results[0]"
   ]
  },
  {
   "cell_type": "markdown",
   "id": "c54bf591",
   "metadata": {},
   "source": [
    "### Setup LangChain RAG workflow to chat with the form"
   ]
  },
  {
   "cell_type": "code",
   "execution_count": 32,
   "id": "89318d57",
   "metadata": {},
   "outputs": [
    {
     "name": "stderr",
     "output_type": "stream",
     "text": [
      "Received notification from DBMS server: {severity: WARNING} {code: Neo.ClientNotification.Statement.FeatureDeprecationWarning} {category: DEPRECATION} {title: This feature is deprecated and will be removed in future versions.} {description: The query used a deprecated procedure. ('db.create.setVectorProperty' has been replaced by 'db.create.setNodeVectorProperty')} {position: line: 1, column: 67, offset: 66} for query: \"UNWIND $data AS row MATCH (n:`Chunk`) WHERE elementId(n) = row.id CALL db.create.setVectorProperty(n, 'textEmbedding', row.embedding) YIELD node RETURN count(*)\"\n"
     ]
    }
   ],
   "source": [
    "neo4j_vector_store = Neo4jVector.from_existing_graph(\n",
    "    embedding=OpenAIEmbeddings(),\n",
    "    url=NEO4J_URI,\n",
    "    username=NEO4J_USERNAME,\n",
    "    password=NEO4J_PASSWORD,\n",
    "    index_name=VECTOR_INDEX_NAME,\n",
    "    node_label=VECTOR_NODE_LABEL,\n",
    "    text_node_properties=[VECTOR_SOURCE_PROPERTY],\n",
    "    embedding_node_property=VECTOR_EMBEDDING_PROPERTY,\n",
    ")"
   ]
  },
  {
   "cell_type": "code",
   "execution_count": 33,
   "id": "cd7cb9d7",
   "metadata": {},
   "outputs": [],
   "source": [
    "retriever = neo4j_vector_store.as_retriever()"
   ]
  },
  {
   "cell_type": "code",
   "execution_count": 34,
   "id": "218fa982",
   "metadata": {},
   "outputs": [],
   "source": [
    "chain = RetrievalQAWithSourcesChain.from_chain_type(\n",
    "    ChatOpenAI(temperature=0),\n",
    "    chain_type=\"stuff\",\n",
    "    retriever=retriever\n",
    ")"
   ]
  },
  {
   "cell_type": "code",
   "execution_count": 35,
   "id": "48dd50de",
   "metadata": {},
   "outputs": [],
   "source": [
    "def prettychain(question: str) -> str:\n",
    "    \"\"\"Pretty print the chain's response to a question\"\"\"\n",
    "    response = chain({\"question\": question},\n",
    "                    return_only_outputs=True,)\n",
    "    print(textwrap.fill(response['answer'], 60))"
   ]
  },
  {
   "cell_type": "code",
   "execution_count": 36,
   "id": "10103178",
   "metadata": {},
   "outputs": [
    {
     "name": "stdout",
     "output_type": "stream",
     "text": [
      "NetApp's primary business is enterprise storage and data\n",
      "management, cloud storage, and cloud operations.\n"
     ]
    }
   ],
   "source": [
    "prettychain(\"What is Netapp's primary business?\")"
   ]
  },
  {
   "cell_type": "code",
   "execution_count": 37,
   "id": "962ce052",
   "metadata": {},
   "outputs": [
    {
     "name": "stdout",
     "output_type": "stream",
     "text": [
      "NetApp is a global cloud-led, data-centric software company\n",
      "that provides customers with the freedom to manage\n",
      "applications and data across hybrid multicloud environments.\n"
     ]
    }
   ],
   "source": [
    "prettychain(\"\"\"\n",
    "    Tell me about Netapp. \n",
    "    Limit your answer to a single sentence.\n",
    "\"\"\")"
   ]
  },
  {
   "cell_type": "code",
   "execution_count": 38,
   "id": "a31e839b",
   "metadata": {},
   "outputs": [
    {
     "name": "stdout",
     "output_type": "stream",
     "text": [
      "Apple is a global cloud-led, data-centric software company\n",
      "headquartered in San Jose, California, that provides\n",
      "customers with the freedom to manage applications and data\n",
      "across hybrid multicloud environments.\n"
     ]
    }
   ],
   "source": [
    "prettychain(\"\"\"\n",
    "    Tell me about Apple. \n",
    "    Limit your answer to a single sentence.\n",
    "\"\"\")"
   ]
  },
  {
   "cell_type": "code",
   "execution_count": 39,
   "id": "71142d89",
   "metadata": {},
   "outputs": [
    {
     "name": "stdout",
     "output_type": "stream",
     "text": [
      "I don't know.\n"
     ]
    }
   ],
   "source": [
    "prettychain(\"\"\"\n",
    "    Tell me about Apple. \n",
    "    Limit your answer to a single sentence.\n",
    "    If you are unsure about the answer, say you don't know.\n",
    "\"\"\")"
   ]
  },
  {
   "cell_type": "markdown",
   "id": "34fbfe13",
   "metadata": {},
   "source": [
    "## Adding Relationships to the Knowledge Graph"
   ]
  },
  {
   "cell_type": "markdown",
   "id": "a9c3c2f2",
   "metadata": {},
   "source": [
    "__Creating a Form 10-K node__"
   ]
  },
  {
   "cell_type": "code",
   "execution_count": 40,
   "id": "619a1785",
   "metadata": {},
   "outputs": [
    {
     "name": "stderr",
     "output_type": "stream",
     "text": [
      "Received notification from DBMS server: {severity: WARNING} {code: Neo.ClientNotification.Statement.UnknownPropertyKeyWarning} {category: UNRECOGNIZED} {title: The provided property key is not in the database} {description: One of the property names in your query is not available in the database, make sure you didn't misspell it or that the label is available when you run this statement in your application (the missing property name is: name)} {position: line: 4, column: 24, offset: 77} for query: '\\n    MATCH (anyChunk:Chunk)\\n    WITH anyChunk LIMIT 1\\n    RETURN anyChunk { .name, .source, .formId, .cik, .cusip6 } as formInfo\\n'\n"
     ]
    },
    {
     "data": {
      "text/plain": [
       "[{'formInfo': {'cik': '1002047',\n",
       "   'source': 'https://www.sec.gov/Archives/edgar/data/1002047/000095017023027948/0000950170-23-027948-index.htm',\n",
       "   'formId': '0000950170-23-027948',\n",
       "   'name': None,\n",
       "   'cusip6': '64110D'}}]"
      ]
     },
     "execution_count": 40,
     "metadata": {},
     "output_type": "execute_result"
    }
   ],
   "source": [
    "cypher = \"\"\"\n",
    "    MATCH (anyChunk:Chunk)\n",
    "    WITH anyChunk LIMIT 1\n",
    "    RETURN anyChunk { .name, .source, .formId, .cik, .cusip6 } as formInfo\n",
    "\"\"\"\n",
    "form_info_list = kg.query(cypher)\n",
    "form_info_list"
   ]
  },
  {
   "cell_type": "code",
   "execution_count": 41,
   "id": "9e8ad8a2",
   "metadata": {},
   "outputs": [],
   "source": [
    "form_info = form_info_list[0]['formInfo']"
   ]
  },
  {
   "cell_type": "code",
   "execution_count": 42,
   "id": "1b8f482e",
   "metadata": {},
   "outputs": [
    {
     "data": {
      "text/plain": [
       "[]"
      ]
     },
     "execution_count": 42,
     "metadata": {},
     "output_type": "execute_result"
    }
   ],
   "source": [
    "cypher = \"\"\"\n",
    "    MERGE (f:Form {formId: $formInfoParam.formId })\n",
    "    ON CREATE\n",
    "        SET f.names = $formInfoParam.names\n",
    "        SET f.source = $formInfoParam.source\n",
    "        SET f.cik = $formInfoParam.cik\n",
    "        SET f.cusip6 = $formInfoParam.cusip6\n",
    "\"\"\"\n",
    "\n",
    "kg.query(cypher, params={'formInfoParam': form_info})"
   ]
  },
  {
   "cell_type": "code",
   "execution_count": 43,
   "id": "94f510c1",
   "metadata": {},
   "outputs": [
    {
     "data": {
      "text/plain": [
       "[{'formCount': 1}]"
      ]
     },
     "execution_count": 43,
     "metadata": {},
     "output_type": "execute_result"
    }
   ],
   "source": [
    "kg.query(\"MATCH (f:Form) RETURN count(f) as formCount\")"
   ]
  },
  {
   "cell_type": "markdown",
   "id": "dfe10525",
   "metadata": {},
   "source": [
    "__Create a linked list of Chunk nodes for each section__"
   ]
  },
  {
   "cell_type": "code",
   "execution_count": 44,
   "id": "e108dcb0",
   "metadata": {},
   "outputs": [
    {
     "data": {
      "text/plain": [
       "[{'chunkInfo': {'formId': '0000950170-23-027948',\n",
       "   'f10kItem': 'item1',\n",
       "   'chunkId': '0000950170-23-027948-item1-chunk0000',\n",
       "   'chunkSeqId': 0}},\n",
       " {'chunkInfo': {'formId': '0000950170-23-027948',\n",
       "   'f10kItem': 'item1',\n",
       "   'chunkId': '0000950170-23-027948-item1-chunk0001',\n",
       "   'chunkSeqId': 1}},\n",
       " {'chunkInfo': {'formId': '0000950170-23-027948',\n",
       "   'f10kItem': 'item1',\n",
       "   'chunkId': '0000950170-23-027948-item1-chunk0002',\n",
       "   'chunkSeqId': 2}},\n",
       " {'chunkInfo': {'formId': '0000950170-23-027948',\n",
       "   'f10kItem': 'item1',\n",
       "   'chunkId': '0000950170-23-027948-item1-chunk0003',\n",
       "   'chunkSeqId': 3}},\n",
       " {'chunkInfo': {'formId': '0000950170-23-027948',\n",
       "   'f10kItem': 'item1',\n",
       "   'chunkId': '0000950170-23-027948-item1-chunk0004',\n",
       "   'chunkSeqId': 4}},\n",
       " {'chunkInfo': {'formId': '0000950170-23-027948',\n",
       "   'f10kItem': 'item1',\n",
       "   'chunkId': '0000950170-23-027948-item1-chunk0005',\n",
       "   'chunkSeqId': 5}},\n",
       " {'chunkInfo': {'formId': '0000950170-23-027948',\n",
       "   'f10kItem': 'item1',\n",
       "   'chunkId': '0000950170-23-027948-item1-chunk0006',\n",
       "   'chunkSeqId': 6}},\n",
       " {'chunkInfo': {'formId': '0000950170-23-027948',\n",
       "   'f10kItem': 'item1',\n",
       "   'chunkId': '0000950170-23-027948-item1-chunk0007',\n",
       "   'chunkSeqId': 7}},\n",
       " {'chunkInfo': {'formId': '0000950170-23-027948',\n",
       "   'f10kItem': 'item1',\n",
       "   'chunkId': '0000950170-23-027948-item1-chunk0008',\n",
       "   'chunkSeqId': 8}},\n",
       " {'chunkInfo': {'formId': '0000950170-23-027948',\n",
       "   'f10kItem': 'item1',\n",
       "   'chunkId': '0000950170-23-027948-item1-chunk0009',\n",
       "   'chunkSeqId': 9}}]"
      ]
     },
     "execution_count": 44,
     "metadata": {},
     "output_type": "execute_result"
    }
   ],
   "source": [
    "cypher = \"\"\"\n",
    "    MATCH (from_same_form:Chunk)\n",
    "        WHERE from_same_form.formId = $formIdParam\n",
    "    RETURN from_same_form {.formId, .f10kItem, .chunkId, .chunkSeqId } as chunkInfo\n",
    "        LIMIT 10\n",
    "\"\"\"\n",
    "\n",
    "kg.query(cypher, params={'formIdParam': form_info['formId']})"
   ]
  },
  {
   "cell_type": "markdown",
   "id": "74b83abd",
   "metadata": {},
   "source": [
    "__Order chunks by their sequence ID__"
   ]
  },
  {
   "cell_type": "code",
   "execution_count": 45,
   "id": "a3f8c812",
   "metadata": {},
   "outputs": [
    {
     "data": {
      "text/plain": [
       "[{'chunkInfo': {'formId': '0000950170-23-027948',\n",
       "   'f10kItem': 'item7a',\n",
       "   'chunkId': '0000950170-23-027948-item7a-chunk0000',\n",
       "   'chunkSeqId': 0}},\n",
       " {'chunkInfo': {'formId': '0000950170-23-027948',\n",
       "   'f10kItem': 'item7',\n",
       "   'chunkId': '0000950170-23-027948-item7-chunk0000',\n",
       "   'chunkSeqId': 0}},\n",
       " {'chunkInfo': {'formId': '0000950170-23-027948',\n",
       "   'f10kItem': 'item1a',\n",
       "   'chunkId': '0000950170-23-027948-item1a-chunk0000',\n",
       "   'chunkSeqId': 0}},\n",
       " {'chunkInfo': {'formId': '0000950170-23-027948',\n",
       "   'f10kItem': 'item1',\n",
       "   'chunkId': '0000950170-23-027948-item1-chunk0000',\n",
       "   'chunkSeqId': 0}},\n",
       " {'chunkInfo': {'formId': '0000950170-23-027948',\n",
       "   'f10kItem': 'item1',\n",
       "   'chunkId': '0000950170-23-027948-item1-chunk0001',\n",
       "   'chunkSeqId': 1}},\n",
       " {'chunkInfo': {'formId': '0000950170-23-027948',\n",
       "   'f10kItem': 'item1',\n",
       "   'chunkId': '0000950170-23-027948-item1-chunk0002',\n",
       "   'chunkSeqId': 2}},\n",
       " {'chunkInfo': {'formId': '0000950170-23-027948',\n",
       "   'f10kItem': 'item1',\n",
       "   'chunkId': '0000950170-23-027948-item1-chunk0003',\n",
       "   'chunkSeqId': 3}},\n",
       " {'chunkInfo': {'formId': '0000950170-23-027948',\n",
       "   'f10kItem': 'item1',\n",
       "   'chunkId': '0000950170-23-027948-item1-chunk0004',\n",
       "   'chunkSeqId': 4}},\n",
       " {'chunkInfo': {'formId': '0000950170-23-027948',\n",
       "   'f10kItem': 'item1',\n",
       "   'chunkId': '0000950170-23-027948-item1-chunk0005',\n",
       "   'chunkSeqId': 5}},\n",
       " {'chunkInfo': {'formId': '0000950170-23-027948',\n",
       "   'f10kItem': 'item1',\n",
       "   'chunkId': '0000950170-23-027948-item1-chunk0006',\n",
       "   'chunkSeqId': 6}}]"
      ]
     },
     "execution_count": 45,
     "metadata": {},
     "output_type": "execute_result"
    }
   ],
   "source": [
    "cypher = \"\"\"\n",
    "    MATCH (from_same_form:Chunk)\n",
    "        WHERE from_same_form.formId = $formIdParam\n",
    "    RETURN from_same_form {.formId, .f10kItem, .chunkId, .chunkSeqId } as chunkInfo\n",
    "        ORDER BY from_same_form.chunkSeqId ASC\n",
    "        LIMIT 10\n",
    "\"\"\"\n",
    "\n",
    "kg.query(cypher, params={'formIdParam': form_info['formId']})"
   ]
  },
  {
   "cell_type": "code",
   "execution_count": 46,
   "id": "b2b50b95",
   "metadata": {},
   "outputs": [
    {
     "data": {
      "text/plain": [
       "[{'from_same_section': {'formId': '0000950170-23-027948',\n",
       "   'f10kItem': 'item1',\n",
       "   'chunkId': '0000950170-23-027948-item1-chunk0000',\n",
       "   'chunkSeqId': 0}},\n",
       " {'from_same_section': {'formId': '0000950170-23-027948',\n",
       "   'f10kItem': 'item1',\n",
       "   'chunkId': '0000950170-23-027948-item1-chunk0001',\n",
       "   'chunkSeqId': 1}},\n",
       " {'from_same_section': {'formId': '0000950170-23-027948',\n",
       "   'f10kItem': 'item1',\n",
       "   'chunkId': '0000950170-23-027948-item1-chunk0002',\n",
       "   'chunkSeqId': 2}},\n",
       " {'from_same_section': {'formId': '0000950170-23-027948',\n",
       "   'f10kItem': 'item1',\n",
       "   'chunkId': '0000950170-23-027948-item1-chunk0003',\n",
       "   'chunkSeqId': 3}},\n",
       " {'from_same_section': {'formId': '0000950170-23-027948',\n",
       "   'f10kItem': 'item1',\n",
       "   'chunkId': '0000950170-23-027948-item1-chunk0004',\n",
       "   'chunkSeqId': 4}},\n",
       " {'from_same_section': {'formId': '0000950170-23-027948',\n",
       "   'f10kItem': 'item1',\n",
       "   'chunkId': '0000950170-23-027948-item1-chunk0005',\n",
       "   'chunkSeqId': 5}},\n",
       " {'from_same_section': {'formId': '0000950170-23-027948',\n",
       "   'f10kItem': 'item1',\n",
       "   'chunkId': '0000950170-23-027948-item1-chunk0006',\n",
       "   'chunkSeqId': 6}},\n",
       " {'from_same_section': {'formId': '0000950170-23-027948',\n",
       "   'f10kItem': 'item1',\n",
       "   'chunkId': '0000950170-23-027948-item1-chunk0007',\n",
       "   'chunkSeqId': 7}},\n",
       " {'from_same_section': {'formId': '0000950170-23-027948',\n",
       "   'f10kItem': 'item1',\n",
       "   'chunkId': '0000950170-23-027948-item1-chunk0008',\n",
       "   'chunkSeqId': 8}},\n",
       " {'from_same_section': {'formId': '0000950170-23-027948',\n",
       "   'f10kItem': 'item1',\n",
       "   'chunkId': '0000950170-23-027948-item1-chunk0009',\n",
       "   'chunkSeqId': 9}}]"
      ]
     },
     "execution_count": 46,
     "metadata": {},
     "output_type": "execute_result"
    }
   ],
   "source": [
    "cypher = \"\"\"\n",
    "    MATCH (from_same_section:Chunk)\n",
    "    WHERE from_same_section.formId = $formIdParam\n",
    "        AND from_same_section.f10kItem = $f10kItemParam // NEW!!!\n",
    "    RETURN from_same_section { .formId, .f10kItem, .chunkId, .chunkSeqId }\n",
    "        ORDER BY from_same_section.chunkSeqId ASC\n",
    "        LIMIT 10\n",
    "\"\"\"\n",
    "\n",
    "kg.query(cypher, params={'formIdParam': form_info['formId'], 'f10kItemParam': 'item1'})"
   ]
  },
  {
   "cell_type": "code",
   "execution_count": 47,
   "id": "5bfabd14",
   "metadata": {},
   "outputs": [
    {
     "data": {
      "text/plain": [
       "[{'collect(from_same_section)': [{'formId': '0000950170-23-027948',\n",
       "    'f10kItem': 'item1',\n",
       "    'chunkId': '0000950170-23-027948-item1-chunk0000',\n",
       "    'chunkSeqId': 0},\n",
       "   {'formId': '0000950170-23-027948',\n",
       "    'f10kItem': 'item1',\n",
       "    'chunkId': '0000950170-23-027948-item1-chunk0001',\n",
       "    'chunkSeqId': 1},\n",
       "   {'formId': '0000950170-23-027948',\n",
       "    'f10kItem': 'item1',\n",
       "    'chunkId': '0000950170-23-027948-item1-chunk0002',\n",
       "    'chunkSeqId': 2},\n",
       "   {'formId': '0000950170-23-027948',\n",
       "    'f10kItem': 'item1',\n",
       "    'chunkId': '0000950170-23-027948-item1-chunk0003',\n",
       "    'chunkSeqId': 3},\n",
       "   {'formId': '0000950170-23-027948',\n",
       "    'f10kItem': 'item1',\n",
       "    'chunkId': '0000950170-23-027948-item1-chunk0004',\n",
       "    'chunkSeqId': 4},\n",
       "   {'formId': '0000950170-23-027948',\n",
       "    'f10kItem': 'item1',\n",
       "    'chunkId': '0000950170-23-027948-item1-chunk0005',\n",
       "    'chunkSeqId': 5},\n",
       "   {'formId': '0000950170-23-027948',\n",
       "    'f10kItem': 'item1',\n",
       "    'chunkId': '0000950170-23-027948-item1-chunk0006',\n",
       "    'chunkSeqId': 6},\n",
       "   {'formId': '0000950170-23-027948',\n",
       "    'f10kItem': 'item1',\n",
       "    'chunkId': '0000950170-23-027948-item1-chunk0007',\n",
       "    'chunkSeqId': 7},\n",
       "   {'formId': '0000950170-23-027948',\n",
       "    'f10kItem': 'item1',\n",
       "    'chunkId': '0000950170-23-027948-item1-chunk0008',\n",
       "    'chunkSeqId': 8},\n",
       "   {'formId': '0000950170-23-027948',\n",
       "    'f10kItem': 'item1',\n",
       "    'chunkId': '0000950170-23-027948-item1-chunk0009',\n",
       "    'chunkSeqId': 9}]}]"
      ]
     },
     "execution_count": 47,
     "metadata": {},
     "output_type": "execute_result"
    }
   ],
   "source": [
    "cypher = \"\"\"\n",
    "    MATCH (from_same_section:Chunk)\n",
    "    WHERE from_same_section.formId = $formIdParam\n",
    "        AND from_same_section.f10kItem = $f10kItemParam\n",
    "    WITH from_same_section { .formId, .f10kItem, .chunkId, .chunkSeqId }\n",
    "        ORDER BY from_same_section.chunkSeqId ASC\n",
    "        LIMIT 10\n",
    "    RETURN collect(from_same_section) // NEW!!\n",
    "\"\"\"\n",
    "\n",
    "kg.query(cypher, params={'formIdParam': form_info['formId'], 'f10kItemParam': 'item1'})"
   ]
  },
  {
   "cell_type": "markdown",
   "id": "b695791d",
   "metadata": {},
   "source": [
    "__Add a NEXT relationship between subsequent chunks__"
   ]
  },
  {
   "cell_type": "markdown",
   "id": "b9bd949c",
   "metadata": {},
   "source": [
    "Use the `apoc.nodes.link` function from Neo4j to link ordered list of Chunk nodes with a `NEXT` relationship.  \n",
    "__Test with \"Item 1\" section__"
   ]
  },
  {
   "cell_type": "code",
   "execution_count": 48,
   "id": "9cb8a327",
   "metadata": {},
   "outputs": [
    {
     "data": {
      "text/plain": [
       "[{'size(section_chunk_list)': 20}]"
      ]
     },
     "execution_count": 48,
     "metadata": {},
     "output_type": "execute_result"
    }
   ],
   "source": [
    "cypher = \"\"\"\n",
    "    MATCH (from_same_section:Chunk)\n",
    "    WHERE from_same_section.formId = $formIdParam\n",
    "        AND from_same_section.f10kItem = $f10kItemParam\n",
    "    WITH from_same_section\n",
    "        ORDER BY from_same_section.chunkSeqId ASC\n",
    "    WITH collect(from_same_section) as section_chunk_list\n",
    "        CALL apoc.nodes.link(\n",
    "            section_chunk_list, \n",
    "            \"NEXT\", \n",
    "            {avoidDuplicates: true}\n",
    "        )  // NEW!!!\n",
    "    RETURN size(section_chunk_list)\n",
    "\"\"\"\n",
    "\n",
    "kg.query(cypher, params={'formIdParam': form_info['formId'], \n",
    "                         'f10kItemParam': 'item1'})"
   ]
  },
  {
   "cell_type": "code",
   "execution_count": 49,
   "id": "ef225cdb",
   "metadata": {},
   "outputs": [
    {
     "name": "stdout",
     "output_type": "stream",
     "text": [
      "Node properties:\n",
      "Chunk {chunkId: STRING, names: LIST, formId: STRING, cik: STRING, cusip6: STRING, source: STRING, f10kItem: STRING, chunkSeqId: INTEGER, text: STRING, textEmbedding: LIST}\n",
      "Form {formId: STRING, cik: STRING, cusip6: STRING, source: STRING}\n",
      "Relationship properties:\n",
      "\n",
      "The relationships:\n",
      "(:Chunk)-[:NEXT]->(:Chunk)\n"
     ]
    }
   ],
   "source": [
    "kg.refresh_schema()\n",
    "print(kg.schema)"
   ]
  },
  {
   "cell_type": "markdown",
   "id": "77ea0599",
   "metadata": {},
   "source": [
    "__Loop through and create relationships for all sections of the form 10-K__"
   ]
  },
  {
   "cell_type": "code",
   "execution_count": 50,
   "id": "21818bdc",
   "metadata": {},
   "outputs": [],
   "source": [
    "cypher = \"\"\"\n",
    "    MATCH (from_same_section:Chunk)\n",
    "    WHERE from_same_section.formId = $formIdParam\n",
    "        AND from_same_section.f10kItem = $f10kItemParam\n",
    "    WITH from_same_section\n",
    "        ORDER BY from_same_section.chunkSeqId ASC\n",
    "    WITH collect(from_same_section) as section_chunk_list\n",
    "        CALL apoc.nodes.link(\n",
    "            section_chunk_list, \n",
    "            \"NEXT\", \n",
    "            {avoidDuplicates: true}\n",
    "        )\n",
    "    RETURN size(section_chunk_list)\n",
    "\"\"\"\n",
    "for form10kItemName in ['item1', 'item1a', 'item7', 'item7a']:\n",
    "    kg.query(cypher, params={'formIdParam':form_info['formId'], \n",
    "                           'f10kItemParam': form10kItemName})\n"
   ]
  },
  {
   "cell_type": "markdown",
   "id": "0a6ddf8d",
   "metadata": {},
   "source": [
    "__Connect chunks to their parent form with a PART_OF relationship__"
   ]
  },
  {
   "cell_type": "code",
   "execution_count": 51,
   "id": "387eb4e4",
   "metadata": {},
   "outputs": [
    {
     "data": {
      "text/plain": [
       "[{'count(newRelationship)': 23}]"
      ]
     },
     "execution_count": 51,
     "metadata": {},
     "output_type": "execute_result"
    }
   ],
   "source": [
    "cypher = \"\"\"\n",
    "    MATCH (c:Chunk), (f:Form)\n",
    "        WHERE c.formId = f.formId\n",
    "    MERGE (c)-[newRelationship:PART_OF]->(f)\n",
    "    RETURN count(newRelationship)\n",
    "\"\"\"\n",
    "\n",
    "kg.query(cypher)"
   ]
  },
  {
   "cell_type": "markdown",
   "id": "2811bde3",
   "metadata": {},
   "source": [
    "__Create a SECTION relationship on first chunk of each section__"
   ]
  },
  {
   "cell_type": "code",
   "execution_count": 52,
   "id": "3f52816c",
   "metadata": {},
   "outputs": [
    {
     "data": {
      "text/plain": [
       "[{'count(r)': 4}]"
      ]
     },
     "execution_count": 52,
     "metadata": {},
     "output_type": "execute_result"
    }
   ],
   "source": [
    "cypher = \"\"\"\n",
    "    MATCH (first:Chunk), (f:Form)\n",
    "    WHERE first.formId = f.formId\n",
    "        AND first.chunkSeqId = 0\n",
    "    WITH first, f\n",
    "        MERGE (f)-[r:SECTION {f10kItem: first.f10kItem}]->(first)\n",
    "    RETURN count(r)\n",
    "\"\"\"\n",
    "\n",
    "kg.query(cypher)"
   ]
  },
  {
   "cell_type": "markdown",
   "id": "96c62242",
   "metadata": {},
   "source": [
    "__Example cypher queries__"
   ]
  },
  {
   "cell_type": "code",
   "execution_count": 53,
   "id": "e3daca58",
   "metadata": {},
   "outputs": [
    {
     "data": {
      "text/plain": [
       "{'chunkId': '0000950170-23-027948-item1-chunk0000',\n",
       " 'text': '>Item 1.  \\nBusiness\\n\\n\\nOverview\\n\\n\\nNetApp, Inc. (NetApp, we, us or the Company) is a global cloud-led, data-centric software company. We were incorporated in 1992 and are headquartered in San Jose, California. Building on more than three decades of innovation, we give customers the freedom to manage applications and data across hybrid multicloud environments. Our portfolio of cloud services, and storage infrastructure, powered by intelligent data management software, enables applications to run faster, more reliably, and more securely, all at a lower cost.\\n\\n\\nOur opportunity is defined by the durable megatrends of data-driven digital and cloud transformations. NetApp helps organizations meet the complexities created by rapid data and cloud growth, multi-cloud management, and the adoption of next-generation technologies, such as AI, Kubernetes, and modern databases. Our modern approach to hybrid, multicloud infrastructure and data management, which we term ‘evolved cloud’, provides customers the ability to leverage data across their entire estate with simplicity, security, and sustainability which increases our relevance and value to our customers.\\n\\n\\nIn an evolved cloud state, the cloud is fully integrated into an organization’s architecture and operations. Data centers and clouds are seamlessly united and hybrid multicloud operations are simplified, with consistency and observability across environments. The key benefits NetApp brings to an organization’s hybrid multicloud environment are:\\n\\n\\n•\\nOperational simplicity: NetApp’s use of open source, open architectures and APIs, microservices, and common capabilities and data services facilitate the creation of applications that can run anywhere.\\n\\n\\n•\\nFlexibility and consistency: NetApp makes moving data and applications between environments seamless through a common storage foundation across on-premises and multicloud environments.'}"
      ]
     },
     "execution_count": 53,
     "metadata": {},
     "output_type": "execute_result"
    }
   ],
   "source": [
    "cypher = \"\"\"\n",
    "MATCH (f:Form)-[r:SECTION]->(first:Chunk)\n",
    "    WHERE f.formId = $formIdParam\n",
    "        AND r.f10kItem = $f10kItemParam\n",
    "RETURN first.chunkId as chunkId, first.text as text\n",
    "\"\"\"\n",
    "\n",
    "first_chunk_info = kg.query(cypher, params={\n",
    "    'formIdParam': form_info['formId'], \n",
    "    'f10kItemParam': 'item1'\n",
    "})[0]\n",
    "\n",
    "first_chunk_info"
   ]
  },
  {
   "cell_type": "code",
   "execution_count": 54,
   "id": "aae7e31e",
   "metadata": {},
   "outputs": [
    {
     "data": {
      "text/plain": [
       "{'chunkId': '0000950170-23-027948-item1-chunk0001',\n",
       " 'text': \"•\\nFlexibility and consistency: NetApp makes moving data and applications between environments seamless through a common storage foundation across on-premises and multicloud environments.\\n\\n\\n•\\nCyber resilience: NetApp unifies monitoring, data protection, security, governance, and compliance for total cyber resilience - with consistency and automation across environments. \\n\\n\\n•\\nContinuous operations: NetApp uses AI-driven automation for continuous optimization to service applications and store stateless and stateful applications at the lowest possible costs.\\n\\n\\n•\\nSustainability: NetApp has industry-leading tools to audit consumption, locate waste, and set guardrails to stop overprovisioning.\\n\\n\\nProduct, Solutions and Services Portfolio\\n \\n\\n\\nNetApp's portfolio of cloud services and storage infrastructure is powered by intelligent data management software. Our operations are organized into two segments: Hybrid Cloud and Public Cloud.\\n\\n\\n \\n\\n\\nHybrid Cloud\\n\\n\\nHybrid Cloud \\noffers a portfolio of storage management and infrastructure solutions that help customers recast their traditional data centers into modern data centers with the power of the cloud. Our hybrid cloud portfolio is designed to operate with public clouds to unlock the potential of hybrid, multi-cloud operations. We offer a broad portfolio of cloud-connected all-flash, hybrid-flash, and object storage systems, powered by intelligent data management software. Hybrid Cloud is composed of software, hardware, and related support, as well as professional and other services.\\n\\n\\nIntelligent data management software\"}"
      ]
     },
     "execution_count": 54,
     "metadata": {},
     "output_type": "execute_result"
    }
   ],
   "source": [
    "cypher = \"\"\"\n",
    "  MATCH (first:Chunk)-[:NEXT]->(nextChunk:Chunk)\n",
    "    WHERE first.chunkId = $chunkIdParam\n",
    "  RETURN nextChunk.chunkId as chunkId, nextChunk.text as text\n",
    "\"\"\"\n",
    "\n",
    "next_chunk_info = kg.query(cypher, params={\n",
    "    'chunkIdParam': first_chunk_info['chunkId']\n",
    "})[0]\n",
    "\n",
    "next_chunk_info"
   ]
  },
  {
   "cell_type": "code",
   "execution_count": 55,
   "id": "e858a5e7",
   "metadata": {},
   "outputs": [
    {
     "name": "stdout",
     "output_type": "stream",
     "text": [
      "0000950170-23-027948-item1-chunk0000 0000950170-23-027948-item1-chunk0001\n"
     ]
    }
   ],
   "source": [
    "print(first_chunk_info['chunkId'], next_chunk_info['chunkId'])"
   ]
  },
  {
   "cell_type": "code",
   "execution_count": 56,
   "id": "d478238f",
   "metadata": {},
   "outputs": [
    {
     "data": {
      "text/plain": [
       "[{'c1.chunkId': '0000950170-23-027948-item1-chunk0000',\n",
       "  'c2.chunkId': '0000950170-23-027948-item1-chunk0001',\n",
       "  'c3.chunkId': '0000950170-23-027948-item1-chunk0002'}]"
      ]
     },
     "execution_count": 56,
     "metadata": {},
     "output_type": "execute_result"
    }
   ],
   "source": [
    "cypher = \"\"\"\n",
    "    MATCH (c1:Chunk)-[:NEXT]->(c2:Chunk)-[:NEXT]->(c3:Chunk) \n",
    "        WHERE c2.chunkId = $chunkIdParam\n",
    "    RETURN c1.chunkId, c2.chunkId, c3.chunkId\n",
    "    \"\"\"\n",
    "\n",
    "kg.query(cypher,\n",
    "         params={'chunkIdParam': next_chunk_info['chunkId']})"
   ]
  },
  {
   "cell_type": "markdown",
   "id": "9177c54a",
   "metadata": {},
   "source": [
    "__Information is stored in the structure of a graph__  \n",
    "- Matched patterns of nodes and relationships in a graph are called __*paths*__\n",
    "- The length of a path is equal to the number of relationships in the path\n",
    "- Paths can be captured as variables and used elsewhere in queries"
   ]
  },
  {
   "cell_type": "code",
   "execution_count": 57,
   "id": "561b9869",
   "metadata": {},
   "outputs": [
    {
     "data": {
      "text/plain": [
       "[{'windowPathLength': 2}]"
      ]
     },
     "execution_count": 57,
     "metadata": {},
     "output_type": "execute_result"
    }
   ],
   "source": [
    "cypher = \"\"\"\n",
    "    MATCH window = (c1:Chunk)-[:NEXT]->(c2:Chunk)-[:NEXT]->(c3:Chunk) \n",
    "        WHERE c1.chunkId = $chunkIdParam\n",
    "    RETURN length(window) as windowPathLength\n",
    "    \"\"\"\n",
    "\n",
    "kg.query(cypher,\n",
    "         params={'chunkIdParam': next_chunk_info['chunkId']})"
   ]
  },
  {
   "cell_type": "markdown",
   "id": "c11537cb",
   "metadata": {},
   "source": [
    "__Finding variable length windows__"
   ]
  },
  {
   "cell_type": "code",
   "execution_count": 58,
   "id": "41f077f2",
   "metadata": {},
   "outputs": [
    {
     "data": {
      "text/plain": [
       "[]"
      ]
     },
     "execution_count": 58,
     "metadata": {},
     "output_type": "execute_result"
    }
   ],
   "source": [
    "cypher = \"\"\"\n",
    "    MATCH window=(c1:Chunk)-[:NEXT]->(c2:Chunk)-[:NEXT]->(c3:Chunk) \n",
    "        WHERE c2.chunkId = $chunkIdParam\n",
    "    RETURN nodes(window) as chunkList\n",
    "    \"\"\"\n",
    "# pull the chunk ID from the first \n",
    "kg.query(cypher,\n",
    "         params={'chunkIdParam': first_chunk_info['chunkId']})\n"
   ]
  },
  {
   "cell_type": "markdown",
   "id": "f4d621c2",
   "metadata": {},
   "source": [
    "__Modify `NEXT` relationship to jave variable length__"
   ]
  },
  {
   "cell_type": "code",
   "execution_count": 59,
   "id": "b3ede075",
   "metadata": {},
   "outputs": [
    {
     "data": {
      "text/plain": [
       "[{'length(window)': 0}, {'length(window)': 1}]"
      ]
     },
     "execution_count": 59,
     "metadata": {},
     "output_type": "execute_result"
    }
   ],
   "source": [
    "cypher = \"\"\"\n",
    "  MATCH window=\n",
    "      (:Chunk)-[:NEXT*0..1]->(c:Chunk)-[:NEXT*0..1]->(:Chunk) \n",
    "    WHERE c.chunkId = $chunkIdParam\n",
    "  RETURN length(window)\n",
    "  \"\"\"\n",
    "\n",
    "kg.query(cypher,\n",
    "         params={'chunkIdParam': first_chunk_info['chunkId']})"
   ]
  },
  {
   "cell_type": "markdown",
   "id": "10e2a070",
   "metadata": {},
   "source": [
    "__Retrieve only the longest path__"
   ]
  },
  {
   "cell_type": "code",
   "execution_count": 60,
   "id": "0861d4ad",
   "metadata": {},
   "outputs": [
    {
     "data": {
      "text/plain": [
       "[{'length(longestChunkWindow)': 1}]"
      ]
     },
     "execution_count": 60,
     "metadata": {},
     "output_type": "execute_result"
    }
   ],
   "source": [
    "cypher = \"\"\"\n",
    "  MATCH window=\n",
    "      (:Chunk)-[:NEXT*0..1]->(c:Chunk)-[:NEXT*0..1]->(:Chunk)\n",
    "    WHERE c.chunkId = $chunkIdParam\n",
    "  WITH window as longestChunkWindow \n",
    "      ORDER BY length(window) DESC LIMIT 1\n",
    "  RETURN length(longestChunkWindow)\n",
    "  \"\"\"\n",
    "\n",
    "kg.query(cypher,\n",
    "         params={'chunkIdParam': first_chunk_info['chunkId']})"
   ]
  },
  {
   "cell_type": "markdown",
   "id": "1da855c9",
   "metadata": {},
   "source": [
    "#### Expand context around a chunk using a window"
   ]
  },
  {
   "cell_type": "markdown",
   "id": "0adabaf2",
   "metadata": {},
   "source": [
    "__Create a regular vector store that retrieves a single node__"
   ]
  },
  {
   "cell_type": "code",
   "execution_count": 61,
   "id": "b9f8683d",
   "metadata": {},
   "outputs": [
    {
     "name": "stderr",
     "output_type": "stream",
     "text": [
      "Received notification from DBMS server: {severity: WARNING} {code: Neo.ClientNotification.Statement.FeatureDeprecationWarning} {category: DEPRECATION} {title: This feature is deprecated and will be removed in future versions.} {description: The query used a deprecated procedure. ('db.create.setVectorProperty' has been replaced by 'db.create.setNodeVectorProperty')} {position: line: 1, column: 67, offset: 66} for query: \"UNWIND $data AS row MATCH (n:`Chunk`) WHERE elementId(n) = row.id CALL db.create.setVectorProperty(n, 'textEmbedding', row.embedding) YIELD node RETURN count(*)\"\n"
     ]
    }
   ],
   "source": [
    "neo4j_vector_store = Neo4jVector.from_existing_graph(\n",
    "    embedding=OpenAIEmbeddings(),\n",
    "    url=NEO4J_URI,\n",
    "    username=NEO4J_USERNAME,\n",
    "    password=NEO4J_PASSWORD,\n",
    "    index_name=VECTOR_INDEX_NAME,\n",
    "    node_label=VECTOR_NODE_LABEL,\n",
    "    text_node_properties=[VECTOR_SOURCE_PROPERTY],\n",
    "    embedding_node_property=VECTOR_EMBEDDING_PROPERTY,\n",
    ")\n",
    "# Create a retriever from the vector store\n",
    "windowless_retriever = neo4j_vector_store.as_retriever()\n",
    "\n",
    "# Create a chatbot Question & Answer chain from the retriever\n",
    "windowless_chain = RetrievalQAWithSourcesChain.from_chain_type(\n",
    "    ChatOpenAI(temperature=0), \n",
    "    chain_type=\"stuff\", \n",
    "    retriever=windowless_retriever\n",
    ")"
   ]
  },
  {
   "cell_type": "markdown",
   "id": "961b0834",
   "metadata": {},
   "source": [
    "__Next, define a window retrieval query to get consecutive chunks__"
   ]
  },
  {
   "cell_type": "code",
   "execution_count": 62,
   "id": "f4fb7f09",
   "metadata": {},
   "outputs": [],
   "source": [
    "retrieval_query_window = \"\"\"\n",
    "MATCH window=\n",
    "    (:Chunk)-[:NEXT*0..1]->(node)-[:NEXT*0..1]->(:Chunk)\n",
    "WITH node, score, window as longestWindow \n",
    "  ORDER BY length(window) DESC LIMIT 1\n",
    "WITH nodes(longestWindow) as chunkList, node, score\n",
    "  UNWIND chunkList as chunkRows\n",
    "WITH collect(chunkRows.text) as textList, node, score\n",
    "RETURN apoc.text.join(textList, \" \\n \") as text,\n",
    "    score,\n",
    "    node {.source} AS metadata\n",
    "\"\"\""
   ]
  },
  {
   "cell_type": "markdown",
   "id": "6996905f",
   "metadata": {},
   "source": [
    "__Set up a QA chain that will use the window retrieval query__"
   ]
  },
  {
   "cell_type": "code",
   "execution_count": 63,
   "id": "86615b68",
   "metadata": {},
   "outputs": [],
   "source": [
    "vector_store_window = Neo4jVector.from_existing_index(\n",
    "    embedding=OpenAIEmbeddings(),\n",
    "    url=NEO4J_URI,\n",
    "    username=NEO4J_USERNAME,\n",
    "    password=NEO4J_PASSWORD,\n",
    "    database=\"neo4j\",\n",
    "    index_name=VECTOR_INDEX_NAME,\n",
    "    text_node_property=VECTOR_SOURCE_PROPERTY,\n",
    "    retrieval_query=retrieval_query_window, # NEW!!!\n",
    ")\n",
    "\n",
    "# Create a retriever from the vector store\n",
    "retriever_window = vector_store_window.as_retriever()\n",
    "\n",
    "# Create a chatbot Question & Answer chain from the retriever\n",
    "chain_window = RetrievalQAWithSourcesChain.from_chain_type(\n",
    "    ChatOpenAI(temperature=0), \n",
    "    chain_type=\"stuff\", \n",
    "    retriever=retriever_window\n",
    ")"
   ]
  },
  {
   "cell_type": "markdown",
   "id": "48ea1637",
   "metadata": {},
   "source": [
    "__Compare the two chains__"
   ]
  },
  {
   "cell_type": "code",
   "execution_count": 64,
   "id": "e09625ac",
   "metadata": {},
   "outputs": [],
   "source": [
    "question = \"In a single sentence, tell me about Netapp's business.\""
   ]
  },
  {
   "cell_type": "code",
   "execution_count": 65,
   "id": "844298f6",
   "metadata": {},
   "outputs": [
    {
     "name": "stdout",
     "output_type": "stream",
     "text": [
      "NetApp is a global cloud-led, data-centric software company that\n",
      "provides customers the freedom to manage applications and data across\n",
      "hybrid multicloud environments, focusing on enterprise storage and\n",
      "data management, cloud storage, and cloud operations markets.\n"
     ]
    }
   ],
   "source": [
    "answer = windowless_chain(\n",
    "    {\"question\": question},\n",
    "    return_only_outputs=True,\n",
    ")\n",
    "print(textwrap.fill(answer[\"answer\"]))"
   ]
  },
  {
   "cell_type": "code",
   "execution_count": 66,
   "id": "92ffc388",
   "metadata": {},
   "outputs": [
    {
     "name": "stdout",
     "output_type": "stream",
     "text": [
      "NetApp is a company that offers storage-as-a-service and global\n",
      "support for continuous operation in complex environments, with a focus\n",
      "on proactive and preemptive technology support for operational\n",
      "continuity across the NetApp hybrid cloud.\n"
     ]
    }
   ],
   "source": [
    "answer = chain_window(\n",
    "    {\"question\": question},\n",
    "    return_only_outputs=True,\n",
    ")\n",
    "print(textwrap.fill(answer[\"answer\"]))"
   ]
  },
  {
   "cell_type": "markdown",
   "id": "f1cb23ed",
   "metadata": {},
   "source": [
    "## Expanding the SEC Knowledge Graph"
   ]
  },
  {
   "cell_type": "markdown",
   "id": "04ff4ece",
   "metadata": {},
   "source": [
    "__Read the collection of Form 13s__"
   ]
  },
  {
   "cell_type": "code",
   "execution_count": 67,
   "id": "54a4ab91",
   "metadata": {},
   "outputs": [],
   "source": [
    "import csv\n",
    "\n",
    "all_form13s = []\n",
    "\n",
    "with open('data/form13.csv', mode='r') as csv_file:\n",
    "    csv_reader = csv.DictReader(csv_file)\n",
    "    for row in csv_reader:\n",
    "      all_form13s.append(row)"
   ]
  },
  {
   "cell_type": "code",
   "execution_count": 68,
   "id": "fccf8ec3",
   "metadata": {},
   "outputs": [
    {
     "data": {
      "text/plain": [
       "[{'source': 'https://sec.gov/Archives/edgar/data/1000275/0001140361-23-039575.txt',\n",
       "  'managerCik': '1000275',\n",
       "  'managerAddress': 'ROYAL BANK PLAZA, 200 BAY STREET, TORONTO, A6, M5J2J5',\n",
       "  'managerName': 'Royal Bank of Canada',\n",
       "  'reportCalendarOrQuarter': '2023-06-30',\n",
       "  'cusip6': '64110D',\n",
       "  'cusip': '64110D104',\n",
       "  'companyName': 'NETAPP INC',\n",
       "  'value': '64395000000.0',\n",
       "  'shares': '842850'},\n",
       " {'source': 'https://sec.gov/Archives/edgar/data/1002784/0001387131-23-009542.txt',\n",
       "  'managerCik': '1002784',\n",
       "  'managerAddress': '1875 Lawrence Street, Suite 300, Denver, CO, 80202-1805',\n",
       "  'managerName': 'SHELTON CAPITAL MANAGEMENT',\n",
       "  'reportCalendarOrQuarter': '2023-06-30',\n",
       "  'cusip6': '64110D',\n",
       "  'cusip': '64110D104',\n",
       "  'companyName': 'NETAPP INC',\n",
       "  'value': '2989085000.0',\n",
       "  'shares': '39124'},\n",
       " {'source': 'https://sec.gov/Archives/edgar/data/1007280/0001007280-23-000008.txt',\n",
       "  'managerCik': '1007280',\n",
       "  'managerAddress': '277 E TOWN ST, COLUMBUS, OH, 43215',\n",
       "  'managerName': 'PUBLIC EMPLOYEES RETIREMENT SYSTEM OF OHIO',\n",
       "  'reportCalendarOrQuarter': '2023-06-30',\n",
       "  'cusip6': '64110D',\n",
       "  'cusip': '64110D104',\n",
       "  'companyName': 'Netapp Inc',\n",
       "  'value': '8170000.0',\n",
       "  'shares': '106941'},\n",
       " {'source': 'https://sec.gov/Archives/edgar/data/1007399/0001007399-23-000004.txt',\n",
       "  'managerCik': '1007399',\n",
       "  'managerAddress': '150 WEST MAIN STREET, SUITE 1700, NORFOLK, VA, 23510',\n",
       "  'managerName': 'WILBANKS SMITH & THOMAS ASSET MANAGEMENT LLC',\n",
       "  'reportCalendarOrQuarter': '2023-06-30',\n",
       "  'cusip6': '64110D',\n",
       "  'cusip': '64110D104',\n",
       "  'companyName': 'NETAPP INC',\n",
       "  'value': '505539000.0',\n",
       "  'shares': '6617'},\n",
       " {'source': 'https://sec.gov/Archives/edgar/data/1008894/0001172661-23-003025.txt',\n",
       "  'managerCik': '1008894',\n",
       "  'managerAddress': '250 Park Avenue South, Suite 250, Winter Park, FL, 32789',\n",
       "  'managerName': 'DEPRINCE RACE & ZOLLO INC',\n",
       "  'reportCalendarOrQuarter': '2023-06-30',\n",
       "  'cusip6': '64110D',\n",
       "  'cusip': '64110D104',\n",
       "  'companyName': 'NETAPP INC',\n",
       "  'value': '24492389000.0',\n",
       "  'shares': '320581'}]"
      ]
     },
     "execution_count": 68,
     "metadata": {},
     "output_type": "execute_result"
    }
   ],
   "source": [
    "all_form13s[0:5]"
   ]
  },
  {
   "cell_type": "code",
   "execution_count": 69,
   "id": "686801f1",
   "metadata": {},
   "outputs": [
    {
     "data": {
      "text/plain": [
       "561"
      ]
     },
     "execution_count": 69,
     "metadata": {},
     "output_type": "execute_result"
    }
   ],
   "source": [
    "len(all_form13s)"
   ]
  },
  {
   "cell_type": "markdown",
   "id": "9e7f01cf",
   "metadata": {},
   "source": [
    "### Create company nodes in the graph"
   ]
  },
  {
   "cell_type": "code",
   "execution_count": 70,
   "id": "c38c0c50",
   "metadata": {},
   "outputs": [
    {
     "data": {
      "text/plain": [
       "[]"
      ]
     },
     "execution_count": 70,
     "metadata": {},
     "output_type": "execute_result"
    }
   ],
   "source": [
    "# work with just the first form fow now\n",
    "first_form13 = all_form13s[0]\n",
    "\n",
    "cypher = \"\"\"\n",
    "MERGE (com:Company {cusip6: $cusip6})\n",
    "  ON CREATE\n",
    "    SET com.companyName = $companyName,\n",
    "        com.cusip = $cusip\n",
    "\"\"\"\n",
    "\n",
    "kg.query(cypher, params={\n",
    "    'cusip6':first_form13['cusip6'], \n",
    "    'companyName':first_form13['companyName'], \n",
    "    'cusip':first_form13['cusip'] \n",
    "})"
   ]
  },
  {
   "cell_type": "code",
   "execution_count": 71,
   "id": "1cd879f8",
   "metadata": {},
   "outputs": [
    {
     "data": {
      "text/plain": [
       "[{'com': {'cusip': '64110D104',\n",
       "   'companyName': 'NETAPP INC',\n",
       "   'cusip6': '64110D'}}]"
      ]
     },
     "execution_count": 71,
     "metadata": {},
     "output_type": "execute_result"
    }
   ],
   "source": [
    "cypher = \"\"\"\n",
    "MATCH (com:Company)\n",
    "RETURN com LIMIT 1\n",
    "\"\"\"\n",
    "\n",
    "kg.query(cypher)"
   ]
  },
  {
   "cell_type": "markdown",
   "id": "6ceaf739",
   "metadata": {},
   "source": [
    "__Update the company name to match Form 10-K__"
   ]
  },
  {
   "cell_type": "code",
   "execution_count": 72,
   "id": "c321a6cd",
   "metadata": {},
   "outputs": [
    {
     "data": {
      "text/plain": [
       "[{'com.companyName': 'NETAPP INC', 'form.names': None}]"
      ]
     },
     "execution_count": 72,
     "metadata": {},
     "output_type": "execute_result"
    }
   ],
   "source": [
    "cypher = \"\"\"\n",
    "  MATCH (com:Company), (form:Form)\n",
    "    WHERE com.cusip6 = form.cusip6\n",
    "  RETURN com.companyName, form.names\n",
    "\"\"\"\n",
    "\n",
    "kg.query(cypher)"
   ]
  },
  {
   "cell_type": "code",
   "execution_count": 73,
   "id": "7dddf81e",
   "metadata": {},
   "outputs": [
    {
     "data": {
      "text/plain": [
       "[]"
      ]
     },
     "execution_count": 73,
     "metadata": {},
     "output_type": "execute_result"
    }
   ],
   "source": [
    "cypher = \"\"\"\n",
    "  MATCH (com:Company), (form:Form)\n",
    "    WHERE com.cusip6 = form.cusip6\n",
    "  SET com.names = form.names\n",
    "\"\"\"\n",
    "\n",
    "kg.query(cypher)"
   ]
  },
  {
   "cell_type": "markdown",
   "id": "fbccc8b4",
   "metadata": {},
   "source": [
    "__Create a `FILED` relationship between the company and the Form-10K node__"
   ]
  },
  {
   "cell_type": "code",
   "execution_count": 74,
   "id": "a057de05",
   "metadata": {},
   "outputs": [
    {
     "data": {
      "text/plain": [
       "[]"
      ]
     },
     "execution_count": 74,
     "metadata": {},
     "output_type": "execute_result"
    }
   ],
   "source": [
    "kg.query(\"\"\"\n",
    "  MATCH (com:Company), (form:Form)\n",
    "    WHERE com.cusip6 = form.cusip6\n",
    "  MERGE (com)-[:FILED]->(form)\n",
    "\"\"\")"
   ]
  },
  {
   "cell_type": "markdown",
   "id": "dd79dcbf",
   "metadata": {},
   "source": [
    "### Create manager nodes"
   ]
  },
  {
   "cell_type": "code",
   "execution_count": 75,
   "id": "2af27b8d",
   "metadata": {},
   "outputs": [
    {
     "data": {
      "text/plain": [
       "[]"
      ]
     },
     "execution_count": 75,
     "metadata": {},
     "output_type": "execute_result"
    }
   ],
   "source": [
    "cypher = \"\"\"\n",
    "  MERGE (mgr:Manager {managerCik: $managerParam.managerCik})\n",
    "    ON CREATE\n",
    "        SET mgr.managerName = $managerParam.managerName,\n",
    "            mgr.managerAddress = $managerParam.managerAddress\n",
    "\"\"\"\n",
    "\n",
    "kg.query(cypher, params={'managerParam': first_form13})"
   ]
  },
  {
   "cell_type": "code",
   "execution_count": 76,
   "id": "e382c346",
   "metadata": {},
   "outputs": [
    {
     "data": {
      "text/plain": [
       "[{'mgr': {'managerCik': '1000275',\n",
       "   'managerAddress': 'ROYAL BANK PLAZA, 200 BAY STREET, TORONTO, A6, M5J2J5',\n",
       "   'managerName': 'Royal Bank of Canada'}}]"
      ]
     },
     "execution_count": 76,
     "metadata": {},
     "output_type": "execute_result"
    }
   ],
   "source": [
    "kg.query(\"\"\"\n",
    "  MATCH (mgr:Manager)\n",
    "  RETURN mgr LIMIT 1\n",
    "\"\"\")"
   ]
  },
  {
   "cell_type": "markdown",
   "id": "6d08086e",
   "metadata": {},
   "source": [
    "__Create a uniquness constraint to avoid duplicate managers__"
   ]
  },
  {
   "cell_type": "code",
   "execution_count": 77,
   "id": "69bd773b",
   "metadata": {},
   "outputs": [
    {
     "data": {
      "text/plain": [
       "[]"
      ]
     },
     "execution_count": 77,
     "metadata": {},
     "output_type": "execute_result"
    }
   ],
   "source": [
    "kg.query(\"\"\"\n",
    "CREATE CONSTRAINT unique_manager \n",
    "  IF NOT EXISTS\n",
    "  FOR (n:Manager) \n",
    "  REQUIRE n.managerCik IS UNIQUE\n",
    "\"\"\")"
   ]
  },
  {
   "cell_type": "markdown",
   "id": "8b351a7a",
   "metadata": {},
   "source": [
    "__Create a fulltext index of manager names to enable text search__"
   ]
  },
  {
   "cell_type": "code",
   "execution_count": 78,
   "id": "c310cf0d",
   "metadata": {},
   "outputs": [
    {
     "data": {
      "text/plain": [
       "[]"
      ]
     },
     "execution_count": 78,
     "metadata": {},
     "output_type": "execute_result"
    }
   ],
   "source": [
    "kg.query(\"\"\"\n",
    "CREATE FULLTEXT INDEX fullTextManagerNames\n",
    "  IF NOT EXISTS\n",
    "  FOR (mgr:Manager) \n",
    "  ON EACH [mgr.managerName]\n",
    "\"\"\")"
   ]
  },
  {
   "cell_type": "code",
   "execution_count": 79,
   "id": "a4f51130",
   "metadata": {},
   "outputs": [
    {
     "data": {
      "text/plain": [
       "[{'node.managerName': 'Royal Bank of Canada', 'score': 0.2615291476249695}]"
      ]
     },
     "execution_count": 79,
     "metadata": {},
     "output_type": "execute_result"
    }
   ],
   "source": [
    "kg.query(\"\"\"\n",
    "  CALL db.index.fulltext.queryNodes(\"fullTextManagerNames\", \n",
    "      \"royal bank\") YIELD node, score\n",
    "  RETURN node.managerName, score\n",
    "\"\"\")"
   ]
  },
  {
   "cell_type": "markdown",
   "id": "acf710d3",
   "metadata": {},
   "source": [
    "__Create nodes for all companies that filed a Form 13__"
   ]
  },
  {
   "cell_type": "code",
   "execution_count": 80,
   "id": "7410a263",
   "metadata": {},
   "outputs": [],
   "source": [
    "cypher = \"\"\"\n",
    "  MERGE (mgr:Manager {managerCik: $managerParam.managerCik})\n",
    "    ON CREATE\n",
    "        SET mgr.managerName = $managerParam.managerName,\n",
    "            mgr.managerAddress = $managerParam.managerAddress\n",
    "\"\"\"\n",
    "# loop through all Form 13s\n",
    "for form13 in all_form13s:\n",
    "  kg.query(cypher, params={'managerParam': form13 })"
   ]
  },
  {
   "cell_type": "code",
   "execution_count": 81,
   "id": "deeb0fe7",
   "metadata": {},
   "outputs": [
    {
     "data": {
      "text/plain": [
       "[{'count(mgr)': 561}]"
      ]
     },
     "execution_count": 81,
     "metadata": {},
     "output_type": "execute_result"
    }
   ],
   "source": [
    "kg.query(\"\"\"\n",
    "    MATCH (mgr:Manager) \n",
    "    RETURN count(mgr)\n",
    "\"\"\")"
   ]
  },
  {
   "cell_type": "markdown",
   "id": "ccdec5b2",
   "metadata": {},
   "source": [
    "### Create relationships between managers and companies"
   ]
  },
  {
   "cell_type": "markdown",
   "id": "eb50f419",
   "metadata": {},
   "source": [
    "- Match companies with managers based on data in the Form 13\n",
    "- Create an `OWNS_STOCK_IN` relationship between the manager and the company"
   ]
  },
  {
   "cell_type": "code",
   "execution_count": 82,
   "id": "8798979b",
   "metadata": {},
   "outputs": [
    {
     "data": {
      "text/plain": [
       "[{'mgr.managerName': 'Royal Bank of Canada',\n",
       "  'com.companyName': 'NETAPP INC',\n",
       "  'investment': {'shares': '842850',\n",
       "   'source': 'https://sec.gov/Archives/edgar/data/1000275/0001140361-23-039575.txt',\n",
       "   'managerName': 'Royal Bank of Canada',\n",
       "   'managerAddress': 'ROYAL BANK PLAZA, 200 BAY STREET, TORONTO, A6, M5J2J5',\n",
       "   'value': '64395000000.0',\n",
       "   'cusip6': '64110D',\n",
       "   'cusip': '64110D104',\n",
       "   'reportCalendarOrQuarter': '2023-06-30',\n",
       "   'companyName': 'NETAPP INC',\n",
       "   'managerCik': '1000275'}}]"
      ]
     },
     "execution_count": 82,
     "metadata": {},
     "output_type": "execute_result"
    }
   ],
   "source": [
    "cypher = \"\"\"\n",
    "  MATCH (mgr:Manager {managerCik: $investmentParam.managerCik}), \n",
    "        (com:Company {cusip6: $investmentParam.cusip6})\n",
    "  RETURN mgr.managerName, com.companyName, $investmentParam as investment\n",
    "\"\"\"\n",
    "\n",
    "kg.query(cypher, params={ \n",
    "    'investmentParam': first_form13 \n",
    "})"
   ]
  },
  {
   "cell_type": "code",
   "execution_count": 83,
   "id": "f84e0b80",
   "metadata": {},
   "outputs": [
    {
     "data": {
      "text/plain": [
       "[{'mgr.managerName': 'Royal Bank of Canada',\n",
       "  'owns.reportCalendarOrQuarter': '2023-06-30',\n",
       "  'com.companyName': 'NETAPP INC'}]"
      ]
     },
     "execution_count": 83,
     "metadata": {},
     "output_type": "execute_result"
    }
   ],
   "source": [
    "cypher = \"\"\"\n",
    "MATCH (mgr:Manager {managerCik: $ownsParam.managerCik}), \n",
    "        (com:Company {cusip6: $ownsParam.cusip6})\n",
    "MERGE (mgr)-[owns:OWNS_STOCK_IN { \n",
    "    reportCalendarOrQuarter: $ownsParam.reportCalendarOrQuarter\n",
    "}]->(com)\n",
    "ON CREATE\n",
    "    SET owns.value  = toFloat($ownsParam.value), \n",
    "        owns.shares = toInteger($ownsParam.shares)\n",
    "RETURN mgr.managerName, owns.reportCalendarOrQuarter, com.companyName\n",
    "\"\"\"\n",
    "\n",
    "kg.query(cypher, params={ 'ownsParam': first_form13 })"
   ]
  },
  {
   "cell_type": "code",
   "execution_count": 84,
   "id": "5fd3d528",
   "metadata": {},
   "outputs": [
    {
     "data": {
      "text/plain": [
       "[{'owns': {'shares': 842850, 'value': 64395000000.0}}]"
      ]
     },
     "execution_count": 84,
     "metadata": {},
     "output_type": "execute_result"
    }
   ],
   "source": [
    "kg.query(\"\"\"\n",
    "MATCH (mgr:Manager {managerCik: $ownsParam.managerCik})\n",
    "-[owns:OWNS_STOCK_IN]->\n",
    "        (com:Company {cusip6: $ownsParam.cusip6})\n",
    "RETURN owns { .shares, .value }\n",
    "\"\"\", params={ 'ownsParam': first_form13 })"
   ]
  },
  {
   "cell_type": "markdown",
   "id": "8a9ec136",
   "metadata": {},
   "source": [
    "__Create relationships between all of the managers who filed Form 13s and the company__"
   ]
  },
  {
   "cell_type": "code",
   "execution_count": 85,
   "id": "17dd782d",
   "metadata": {},
   "outputs": [],
   "source": [
    "cypher = \"\"\"\n",
    "MATCH (mgr:Manager {managerCik: $ownsParam.managerCik}), \n",
    "        (com:Company {cusip6: $ownsParam.cusip6})\n",
    "MERGE (mgr)-[owns:OWNS_STOCK_IN { \n",
    "    reportCalendarOrQuarter: $ownsParam.reportCalendarOrQuarter \n",
    "    }]->(com)\n",
    "  ON CREATE\n",
    "    SET owns.value  = toFloat($ownsParam.value), \n",
    "        owns.shares = toInteger($ownsParam.shares)\n",
    "\"\"\"\n",
    "\n",
    "#loop through all Form 13s\n",
    "for form13 in all_form13s:\n",
    "  kg.query(cypher, params={'ownsParam': form13 })"
   ]
  },
  {
   "cell_type": "code",
   "execution_count": 86,
   "id": "8323a170",
   "metadata": {},
   "outputs": [
    {
     "data": {
      "text/plain": [
       "[{'investments': 561}]"
      ]
     },
     "execution_count": 86,
     "metadata": {},
     "output_type": "execute_result"
    }
   ],
   "source": [
    "cypher = \"\"\"\n",
    "  MATCH (:Manager)-[owns:OWNS_STOCK_IN]->(:Company)\n",
    "  RETURN count(owns) as investments\n",
    "\"\"\"\n",
    "\n",
    "kg.query(cypher)"
   ]
  },
  {
   "cell_type": "markdown",
   "id": "403777b9",
   "metadata": {},
   "source": [
    "## Create Address nodes"
   ]
  },
  {
   "cell_type": "code",
   "execution_count": 87,
   "id": "a3b3c187",
   "metadata": {},
   "outputs": [],
   "source": [
    "import usaddress"
   ]
  },
  {
   "cell_type": "code",
   "execution_count": 88,
   "id": "bf88fdd6",
   "metadata": {},
   "outputs": [
    {
     "data": {
      "text/plain": [
       "[]"
      ]
     },
     "execution_count": 88,
     "metadata": {},
     "output_type": "execute_result"
    }
   ],
   "source": [
    "cypher = \"\"\"\n",
    "    MERGE (addr:Address {managerCik: $locationParam.managerCik})\n",
    "        ON CREATE\n",
    "            SET addr.address = $locationParam.managerAddress,\n",
    "                addr.zipcode = $zipcode,\n",
    "                addr.city = $city,\n",
    "                addr.state = $state,\n",
    "                addr.street = $street,\n",
    "                addr.addressNumber = $addressNumber,\n",
    "                addr.streetName = $streetName,\n",
    "                addr.streetType = $streetType,\n",
    "                addr.occupancyType = $occupancyType,\n",
    "                addr.occupancyNumber = $occupancyNumber,\n",
    "                addr.managerName = $locationParam.managerName\n",
    "\"\"\"\n",
    "\n",
    "parsed_address = usaddress.tag(first_form13['managerAddress'])[0]\n",
    "kg.query(cypher, params={\n",
    "    'locationParam': form13,\n",
    "    'zipcode': parsed_address.get('Zipcode', ''),\n",
    "    'city': parsed_address.get('PlaceName', ''),\n",
    "    'state': parsed_address.get('StateName', ''),\n",
    "    'street': parsed_address.get('AddressNumber', '') + ' ' + parsed_address.get('StreetName', '') + ' ' + parsed_address.get('StreetNamePostType', ''),\n",
    "    'addressNumber': parsed_address.get('AddressNumber', ''),\n",
    "    'streetName': parsed_address.get('StreetName', ''),\n",
    "    'streetType': parsed_address.get('StreetNamePostType', ''),\n",
    "    'occupancyType': parsed_address.get('OccupancyType', ''),\n",
    "    'occupancyNumber': parsed_address.get('OccupancyIdentifier', ''),\n",
    "})"
   ]
  },
  {
   "cell_type": "code",
   "execution_count": 89,
   "id": "0b942b72",
   "metadata": {},
   "outputs": [
    {
     "data": {
      "text/plain": [
       "[{'addr': {'managerCik': '9634',\n",
       "   'zipcode': '',\n",
       "   'streetName': 'BAY',\n",
       "   'streetType': 'STREET',\n",
       "   'occupancyType': '',\n",
       "   'address': 'PO BOX 2300, TULSA, OK, 74172',\n",
       "   'occupancyNumber': '',\n",
       "   'city': 'TORONTO',\n",
       "   'street': '200 BAY STREET',\n",
       "   'addressNumber': '200',\n",
       "   'state': 'A6',\n",
       "   'managerName': 'BOKF, NA'}}]"
      ]
     },
     "execution_count": 89,
     "metadata": {},
     "output_type": "execute_result"
    }
   ],
   "source": [
    "kg.query(\"\"\"\n",
    "    MATCH (addr:Address)\n",
    "    RETURN addr LIMIT 1\n",
    "\"\"\")"
   ]
  },
  {
   "cell_type": "markdown",
   "id": "2854aa95",
   "metadata": {},
   "source": [
    "__Create a uniquness constraint to avoid duplicate manager addresses__"
   ]
  },
  {
   "cell_type": "code",
   "execution_count": 90,
   "id": "5e2da683",
   "metadata": {},
   "outputs": [
    {
     "data": {
      "text/plain": [
       "[]"
      ]
     },
     "execution_count": 90,
     "metadata": {},
     "output_type": "execute_result"
    }
   ],
   "source": [
    "kg.query(\"\"\"\n",
    "    CREATE CONSTRAINT unique_manager_addr\n",
    "    IF NOT EXISTS\n",
    "    FOR (n:Address)\n",
    "    REQUIRE n.managerCik IS UNIQUE\n",
    "\"\"\")"
   ]
  },
  {
   "cell_type": "markdown",
   "id": "a7fa925b",
   "metadata": {},
   "source": [
    "__Create a fulltext index of manager addresses to enable text search__"
   ]
  },
  {
   "cell_type": "code",
   "execution_count": 91,
   "id": "e58b9b34",
   "metadata": {},
   "outputs": [
    {
     "data": {
      "text/plain": [
       "[]"
      ]
     },
     "execution_count": 91,
     "metadata": {},
     "output_type": "execute_result"
    }
   ],
   "source": [
    "kg.query(\"\"\"\n",
    "CREATE FULLTEXT INDEX fullTextManagerAddress\n",
    "    IF NOT EXISTS\n",
    "    FOR (addr:Address)\n",
    "    ON EACH [addr.address]\n",
    "\"\"\")"
   ]
  },
  {
   "cell_type": "code",
   "execution_count": 92,
   "id": "a622add6",
   "metadata": {},
   "outputs": [
    {
     "data": {
      "text/plain": [
       "[]"
      ]
     },
     "execution_count": 92,
     "metadata": {},
     "output_type": "execute_result"
    }
   ],
   "source": [
    "kg.query(\"\"\"\n",
    "    CALL db.index.fulltext.queryNodes(\"fullTextManagerAddress\",\n",
    "    \"bay toronto\") YIELD node, score\n",
    "    RETURN node.managerCik, node.address, score\n",
    "\"\"\")"
   ]
  },
  {
   "cell_type": "markdown",
   "id": "08b11d5b",
   "metadata": {},
   "source": [
    "__Create nodes for all companies that filed a Form 13__"
   ]
  },
  {
   "cell_type": "code",
   "execution_count": 93,
   "id": "84d71ff6",
   "metadata": {},
   "outputs": [],
   "source": [
    "cypher = \"\"\"\n",
    "    MERGE (addr:Address {managerCik: $locationParam.managerCik})\n",
    "        ON CREATE\n",
    "            SET addr.address = $locationParam.managerAddress,\n",
    "                addr.zipcode = $zipcode,\n",
    "                addr.city = $city,\n",
    "                addr.state = $state,\n",
    "                addr.street = $street,\n",
    "                addr.addressNumber = $addressNumber,\n",
    "                addr.streetName = $streetName,\n",
    "                addr.streetType = $streetType,\n",
    "                addr.occupancyType = $occupancyType,\n",
    "                addr.occupancyNumber = $occupancyNumber,\n",
    "                addr.managerName = $locationParam.managerName\n",
    "\"\"\"\n",
    "\n",
    "for form13 in all_form13s:\n",
    "    try:\n",
    "        parsed_address = usaddress.tag(form13['managerAddress'])[0]\n",
    "    except usaddress.RepeatedLabelError as e:\n",
    "        None\n",
    "    kg.query(cypher, params={\n",
    "        'locationParam': form13,\n",
    "        'zipcode': parsed_address.get('Zipcode', ''),\n",
    "        'city': parsed_address.get('PlaceName', ''),\n",
    "        'state': parsed_address.get('StateName', ''),\n",
    "        'street': parsed_address.get('AddressNumber', '') + ' ' + parsed_address.get('StreetName', '') + ' ' + parsed_address.get('StreetNamePostType', ''),\n",
    "        'addressNumber': parsed_address.get('AddressNumber', ''),\n",
    "        'streetName': parsed_address.get('StreetName', ''),\n",
    "        'streetType': parsed_address.get('StreetNamePostType', ''),\n",
    "        'occupancyType': parsed_address.get('OccupancyType', ''),\n",
    "        'occupancyNumber': parsed_address.get('OccupancyIdentifier', ''),\n",
    "    })"
   ]
  },
  {
   "cell_type": "code",
   "execution_count": 94,
   "id": "183ddaa9",
   "metadata": {},
   "outputs": [
    {
     "data": {
      "text/plain": [
       "[{'count(addr)': 561}]"
      ]
     },
     "execution_count": 94,
     "metadata": {},
     "output_type": "execute_result"
    }
   ],
   "source": [
    "kg.query(\"\"\"\n",
    "    MATCH (addr:Address)\n",
    "    RETURN count(addr)\n",
    "\"\"\")"
   ]
  },
  {
   "cell_type": "markdown",
   "id": "620232d8",
   "metadata": {},
   "source": [
    "### Create relationships between managers and adresses"
   ]
  },
  {
   "cell_type": "markdown",
   "id": "fe74c6a8",
   "metadata": {},
   "source": [
    "- Create an `LOCATED_AT` relationship between the manager and the address"
   ]
  },
  {
   "cell_type": "code",
   "execution_count": 95,
   "id": "365c5c99",
   "metadata": {},
   "outputs": [
    {
     "data": {
      "text/plain": [
       "[{'mgr.managerName': 'Royal Bank of Canada',\n",
       "  'addr.address': 'ROYAL BANK PLAZA, 200 BAY STREET, TORONTO, A6, M5J2J5',\n",
       "  'location': {'shares': '842850',\n",
       "   'source': 'https://sec.gov/Archives/edgar/data/1000275/0001140361-23-039575.txt',\n",
       "   'managerName': 'Royal Bank of Canada',\n",
       "   'managerAddress': 'ROYAL BANK PLAZA, 200 BAY STREET, TORONTO, A6, M5J2J5',\n",
       "   'value': '64395000000.0',\n",
       "   'cusip6': '64110D',\n",
       "   'cusip': '64110D104',\n",
       "   'reportCalendarOrQuarter': '2023-06-30',\n",
       "   'companyName': 'NETAPP INC',\n",
       "   'managerCik': '1000275'}}]"
      ]
     },
     "execution_count": 95,
     "metadata": {},
     "output_type": "execute_result"
    }
   ],
   "source": [
    "cypher = \"\"\"\n",
    "    MATCH (mgr:Manager {managerCik: $locationParam.managerCik}),\n",
    "        (addr:Address {managerCik: $locationParam.managerCik})\n",
    "    RETURN mgr.managerName, addr.address, $locationParam as location\n",
    "\"\"\"\n",
    "\n",
    "kg.query(cypher, params={'locationParam': first_form13})"
   ]
  },
  {
   "cell_type": "code",
   "execution_count": 96,
   "id": "17b113dc",
   "metadata": {},
   "outputs": [
    {
     "data": {
      "text/plain": [
       "[{'mgr.managerName': 'Royal Bank of Canada',\n",
       "  'addr.address': 'ROYAL BANK PLAZA, 200 BAY STREET, TORONTO, A6, M5J2J5'}]"
      ]
     },
     "execution_count": 96,
     "metadata": {},
     "output_type": "execute_result"
    }
   ],
   "source": [
    "cypher = \"\"\"\n",
    "    MATCH (mgr:Manager {managerCik: $locationParam.managerCik}),\n",
    "        (addr:Address {managerCik: $locationParam.managerCik})\n",
    "    MERGE (mgr)-[:LOCATED_AT]->(addr)\n",
    "    RETURN mgr.managerName, addr.address\n",
    "\"\"\"\n",
    "\n",
    "kg.query(cypher, params={'locationParam': first_form13})"
   ]
  },
  {
   "cell_type": "code",
   "execution_count": 97,
   "id": "959ca270",
   "metadata": {},
   "outputs": [
    {
     "data": {
      "text/plain": [
       "[{'mgr.managerName': 'Royal Bank of Canada',\n",
       "  'addr.address': 'ROYAL BANK PLAZA, 200 BAY STREET, TORONTO, A6, M5J2J5'}]"
      ]
     },
     "execution_count": 97,
     "metadata": {},
     "output_type": "execute_result"
    }
   ],
   "source": [
    "kg.query(\"\"\"\n",
    "    MATCH (mgr:Manager {managerCik: $locationParam.managerCik})\n",
    "    -[:LOCATED_AT]->(addr:Address {managerCik: $locationParam.managerCik})\n",
    "    RETURN mgr.managerName, addr.address\n",
    "\"\"\", params={'locationParam': first_form13})"
   ]
  },
  {
   "cell_type": "markdown",
   "id": "5c5fb85e",
   "metadata": {},
   "source": [
    "__Create relationships between all of the managers who filed Form 13s and their addresses__"
   ]
  },
  {
   "cell_type": "code",
   "execution_count": 98,
   "id": "5e8836a9",
   "metadata": {},
   "outputs": [],
   "source": [
    "cypher = \"\"\"\n",
    "    MATCH (mgr:Manager {managerCik: $locationParam.managerCik}),\n",
    "        (addr:Address {managerCik: $locationParam.managerCik})\n",
    "    MERGE (mgr)-[:LOCATED_AT]->(addr)\n",
    "    RETURN mgr.managerName, addr.address\n",
    "\"\"\"\n",
    "for form13 in all_form13s:\n",
    "    kg.query(cypher, params={'locationParam': form13})"
   ]
  },
  {
   "cell_type": "code",
   "execution_count": 99,
   "id": "e61e146a",
   "metadata": {},
   "outputs": [
    {
     "data": {
      "text/plain": [
       "[{'locations': 561}]"
      ]
     },
     "execution_count": 99,
     "metadata": {},
     "output_type": "execute_result"
    }
   ],
   "source": [
    "cypher = \"\"\"\n",
    "    MATCH (:Manager)-[loc:LOCATED_AT]->(:Address)\n",
    "    RETURN count(loc) as locations\n",
    "\"\"\"\n",
    "\n",
    "kg.query(cypher)"
   ]
  },
  {
   "cell_type": "code",
   "execution_count": 100,
   "id": "932a6abe",
   "metadata": {},
   "outputs": [
    {
     "name": "stdout",
     "output_type": "stream",
     "text": [
      "Node properties: Chunk {chunkId: STRING, names: LIST,\n",
      "formId: STRING, cik: STRING, cusip6: STRING, source: STRING,\n",
      "f10kItem: STRING, chunkSeqId: INTEGER, text: STRING,\n",
      "textEmbedding: LIST} Form {formId: STRING, cik: STRING,\n",
      "cusip6: STRING, source: STRING} Company {cusip6: STRING,\n",
      "companyName: STRING, cusip: STRING} Manager {managerCik:\n",
      "STRING, managerName: STRING, managerAddress: STRING} Address\n",
      "{managerCik: STRING, managerName: STRING, address: STRING,\n",
      "zipcode: STRING, city: STRING, state: STRING, street:\n",
      "STRING, addressNumber: STRING, streetName: STRING,\n",
      "streetType: STRING, occupancyType: STRING, occupancyNumber:\n",
      "STRING} Relationship properties: SECTION {f10kItem: STRING}\n",
      "OWNS_STOCK_IN {reportCalendarOrQuarter: STRING, value:\n",
      "FLOAT, shares: INTEGER} The relationships:\n",
      "(:Chunk)-[:NEXT]->(:Chunk) (:Chunk)-[:PART_OF]->(:Form)\n",
      "(:Form)-[:SECTION]->(:Chunk) (:Company)-[:FILED]->(:Form)\n",
      "(:Manager)-[:OWNS_STOCK_IN]->(:Company)\n",
      "(:Manager)-[:LOCATED_AT]->(:Address)\n"
     ]
    }
   ],
   "source": [
    "kg.refresh_schema()\n",
    "print(textwrap.fill(kg.schema, 60))"
   ]
  },
  {
   "cell_type": "markdown",
   "id": "081b150f",
   "metadata": {},
   "source": [
    "### Determining the number of investors"
   ]
  },
  {
   "cell_type": "code",
   "execution_count": 101,
   "id": "0410a5ad",
   "metadata": {},
   "outputs": [
    {
     "name": "stdout",
     "output_type": "stream",
     "text": [
      "[{'chunkId': '0000950170-23-027948-item1-chunk0000'}]\n"
     ]
    }
   ],
   "source": [
    "cypher = \"\"\"\n",
    "    MATCH (chunk:Chunk)\n",
    "    RETURN chunk.chunkId as chunkId LIMIT 1\n",
    "    \"\"\"\n",
    "\n",
    "chunk_rows = kg.query(cypher)\n",
    "print(chunk_rows)"
   ]
  },
  {
   "cell_type": "code",
   "execution_count": 102,
   "id": "dcfd706d",
   "metadata": {},
   "outputs": [
    {
     "name": "stdout",
     "output_type": "stream",
     "text": [
      "{'chunkId': '0000950170-23-027948-item1-chunk0000'}\n"
     ]
    }
   ],
   "source": [
    "chunk_first_row = chunk_rows[0]\n",
    "print(chunk_first_row)"
   ]
  },
  {
   "cell_type": "code",
   "execution_count": 103,
   "id": "c92049dc",
   "metadata": {},
   "outputs": [
    {
     "data": {
      "text/plain": [
       "'0000950170-23-027948-item1-chunk0000'"
      ]
     },
     "execution_count": 103,
     "metadata": {},
     "output_type": "execute_result"
    }
   ],
   "source": [
    "ref_chunk_id = chunk_first_row['chunkId']\n",
    "ref_chunk_id"
   ]
  },
  {
   "cell_type": "code",
   "execution_count": 104,
   "id": "27a8aa36",
   "metadata": {},
   "outputs": [
    {
     "data": {
      "text/plain": [
       "[{'f.source': 'https://www.sec.gov/Archives/edgar/data/1002047/000095017023027948/0000950170-23-027948-index.htm'}]"
      ]
     },
     "execution_count": 104,
     "metadata": {},
     "output_type": "execute_result"
    }
   ],
   "source": [
    "cypher = \"\"\"\n",
    "    MATCH (:Chunk {chunkId: $chunkIdParam})-[:PART_OF]->(f:Form)\n",
    "    RETURN f.source\n",
    "    \"\"\"\n",
    "\n",
    "kg.query(cypher, params={'chunkIdParam': ref_chunk_id})"
   ]
  },
  {
   "cell_type": "code",
   "execution_count": 105,
   "id": "1a4b6853",
   "metadata": {},
   "outputs": [
    {
     "data": {
      "text/plain": [
       "[{'name': 'NETAPP INC'}]"
      ]
     },
     "execution_count": 105,
     "metadata": {},
     "output_type": "execute_result"
    }
   ],
   "source": [
    "cypher = \"\"\"\n",
    "MATCH (:Chunk {chunkId: $chunkIdParam})-[:PART_OF]->(f:Form),\n",
    "    (com:Company)-[:FILED]->(f)\n",
    "RETURN com.companyName as name\n",
    "\"\"\"\n",
    "\n",
    "kg.query(cypher, params={'chunkIdParam': ref_chunk_id})"
   ]
  },
  {
   "cell_type": "code",
   "execution_count": 106,
   "id": "c38c9034",
   "metadata": {},
   "outputs": [
    {
     "data": {
      "text/plain": [
       "[{'com.companyName': 'NETAPP INC', 'numberOfinvestors': 561}]"
      ]
     },
     "execution_count": 106,
     "metadata": {},
     "output_type": "execute_result"
    }
   ],
   "source": [
    "cypher = \"\"\"\n",
    "MATCH (:Chunk {chunkId: $chunkIdParam})-[:PART_OF]->(f:Form),\n",
    "        (com:Company)-[:FILED]->(f),\n",
    "        (mgr:Manager)-[:OWNS_STOCK_IN]->(com)\n",
    "RETURN com.companyName, \n",
    "        count(mgr.managerName) as numberOfinvestors \n",
    "LIMIT 1\n",
    "\"\"\"\n",
    "\n",
    "kg.query(cypher, params={\n",
    "    'chunkIdParam': ref_chunk_id\n",
    "})"
   ]
  },
  {
   "cell_type": "markdown",
   "id": "ad983c6a",
   "metadata": {},
   "source": [
    "### Use queries to build additional context for LLM"
   ]
  },
  {
   "cell_type": "code",
   "execution_count": 107,
   "id": "50d73c48",
   "metadata": {},
   "outputs": [
    {
     "data": {
      "text/plain": [
       "[{'text': 'Royal Bank of Canada owns 842850 shares of NETAPP INC at a value of $64,395,000,000'},\n",
       " {'text': 'SHELTON CAPITAL MANAGEMENT owns 39124 shares of NETAPP INC at a value of $2,989,085,000'},\n",
       " {'text': 'PUBLIC EMPLOYEES RETIREMENT SYSTEM OF OHIO owns 106941 shares of NETAPP INC at a value of $8,170,000'},\n",
       " {'text': 'WILBANKS SMITH & THOMAS ASSET MANAGEMENT LLC owns 6617 shares of NETAPP INC at a value of $505,539,000'},\n",
       " {'text': 'DEPRINCE RACE & ZOLLO INC owns 320581 shares of NETAPP INC at a value of $24,492,389,000'},\n",
       " {'text': 'COMMERCE BANK owns 101422 shares of NETAPP INC at a value of $7,748,640,000'},\n",
       " {'text': 'D. E. Shaw & Co., Inc. owns 323440 shares of NETAPP INC at a value of $24,710,816,000'},\n",
       " {'text': 'EDMP, INC. owns 4698 shares of NETAPP INC at a value of $358,927,000'},\n",
       " {'text': 'NATIXIS ADVISORS, L.P. owns 40296 shares of NETAPP INC at a value of $3,079,000'},\n",
       " {'text': 'Smithfield Trust Co owns 215 shares of NETAPP INC at a value of $16,000'}]"
      ]
     },
     "execution_count": 107,
     "metadata": {},
     "output_type": "execute_result"
    }
   ],
   "source": [
    "cypher = \"\"\"\n",
    "    MATCH (:Chunk {chunkId: $chunkIdParam})-[:PART_OF]->(f:Form),\n",
    "        (com:Company)-[:FILED]->(f),\n",
    "        (mgr:Manager)-[owns:OWNS_STOCK_IN]->(com)\n",
    "    RETURN mgr.managerName + \" owns \" + owns.shares + \n",
    "        \" shares of \" + com.companyName + \n",
    "        \" at a value of $\" + \n",
    "        apoc.number.format(toInteger(owns.value)) AS text\n",
    "    LIMIT 10\n",
    "    \"\"\"\n",
    "kg.query(cypher, params={\n",
    "    'chunkIdParam': ref_chunk_id\n",
    "})"
   ]
  },
  {
   "cell_type": "code",
   "execution_count": 108,
   "id": "77bdda88",
   "metadata": {},
   "outputs": [
    {
     "name": "stdout",
     "output_type": "stream",
     "text": [
      "Royal Bank of Canada owns 842850 shares of NETAPP INC at a\n",
      "value of $64,395,000,000\n"
     ]
    }
   ],
   "source": [
    "results = kg.query(cypher, params={\n",
    "    'chunkIdParam': ref_chunk_id\n",
    "})\n",
    "print(textwrap.fill(results[0]['text'], 60))"
   ]
  },
  {
   "cell_type": "code",
   "execution_count": 109,
   "id": "54cb2a21",
   "metadata": {},
   "outputs": [
    {
     "name": "stderr",
     "output_type": "stream",
     "text": [
      "Received notification from DBMS server: {severity: WARNING} {code: Neo.ClientNotification.Statement.FeatureDeprecationWarning} {category: DEPRECATION} {title: This feature is deprecated and will be removed in future versions.} {description: The query used a deprecated procedure. ('db.create.setVectorProperty' has been replaced by 'db.create.setNodeVectorProperty')} {position: line: 1, column: 67, offset: 66} for query: \"UNWIND $data AS row MATCH (n:`Chunk`) WHERE elementId(n) = row.id CALL db.create.setVectorProperty(n, 'textEmbedding', row.embedding) YIELD node RETURN count(*)\"\n"
     ]
    }
   ],
   "source": [
    "vector_store = Neo4jVector.from_existing_graph(\n",
    "    embedding=OpenAIEmbeddings(),\n",
    "    url=NEO4J_URI,\n",
    "    username=NEO4J_USERNAME,\n",
    "    password=NEO4J_PASSWORD,\n",
    "    index_name=VECTOR_INDEX_NAME,\n",
    "    node_label=VECTOR_NODE_LABEL,\n",
    "    text_node_properties=[VECTOR_SOURCE_PROPERTY],\n",
    "    embedding_node_property=VECTOR_EMBEDDING_PROPERTY,\n",
    ")\n",
    "# Create a retriever from the vector store\n",
    "retriever = vector_store.as_retriever()\n",
    "\n",
    "# Create a chatbot Question & Answer chain from the retriever\n",
    "plain_chain = RetrievalQAWithSourcesChain.from_chain_type(\n",
    "    ChatOpenAI(temperature=0), \n",
    "    chain_type=\"stuff\", \n",
    "    retriever=retriever\n",
    ")"
   ]
  },
  {
   "cell_type": "code",
   "execution_count": 110,
   "id": "71110227",
   "metadata": {},
   "outputs": [],
   "source": [
    "investment_retrieval_query = \"\"\"\n",
    "MATCH (node)-[:PART_OF]->(f:Form),\n",
    "    (f)<-[:FILED]-(com:Company),\n",
    "    (com)<-[owns:OWNS_STOCK_IN]-(mgr:Manager)\n",
    "WITH node, score, mgr, owns, com \n",
    "    ORDER BY owns.shares DESC LIMIT 10\n",
    "WITH collect (\n",
    "    mgr.managerName + \n",
    "    \" owns \" + owns.shares + \n",
    "    \" shares in \" + com.companyName + \n",
    "    \" at a value of $\" + \n",
    "    apoc.number.format(toInteger(owns.value)) + \".\" \n",
    ") AS investment_statements, node, score\n",
    "RETURN apoc.text.join(investment_statements, \"\\n\") + \n",
    "    \"\\n\" + node.text AS text,\n",
    "    score,\n",
    "    { \n",
    "      source: node.source\n",
    "    } as metadata\n",
    "\"\"\""
   ]
  },
  {
   "cell_type": "code",
   "execution_count": 111,
   "id": "83a6c908",
   "metadata": {},
   "outputs": [],
   "source": [
    "vector_store_with_investment = Neo4jVector.from_existing_index(\n",
    "    OpenAIEmbeddings(),\n",
    "    url=NEO4J_URI,\n",
    "    username=NEO4J_USERNAME,\n",
    "    password=NEO4J_PASSWORD,\n",
    "    database=\"neo4j\",\n",
    "    index_name=VECTOR_INDEX_NAME,\n",
    "    text_node_property=VECTOR_SOURCE_PROPERTY,\n",
    "    retrieval_query=investment_retrieval_query,\n",
    ")\n",
    "\n",
    "# Create a retriever from the vector store\n",
    "retriever_with_investments = vector_store_with_investment.as_retriever()\n",
    "\n",
    "# Create a chatbot Question & Answer chain from the retriever\n",
    "investment_chain = RetrievalQAWithSourcesChain.from_chain_type(\n",
    "    ChatOpenAI(temperature=0), \n",
    "    chain_type=\"stuff\", \n",
    "    retriever=retriever_with_investments\n",
    ")"
   ]
  },
  {
   "cell_type": "code",
   "execution_count": 112,
   "id": "7eb7e8d9",
   "metadata": {},
   "outputs": [],
   "source": [
    "question = \"In a single sentence, tell me about Netapp.\""
   ]
  },
  {
   "cell_type": "code",
   "execution_count": 113,
   "id": "a888eb7a",
   "metadata": {},
   "outputs": [
    {
     "data": {
      "text/plain": [
       "{'answer': 'NetApp is a global cloud-led, data-centric software company that provides customers the freedom to manage applications and data across hybrid multicloud environments. \\n',\n",
       " 'sources': 'https://www.sec.gov/Archives/edgar/data/1002047/000095017023027948/0000950170-23-027948-index.htm'}"
      ]
     },
     "execution_count": 113,
     "metadata": {},
     "output_type": "execute_result"
    }
   ],
   "source": [
    "plain_chain(\n",
    "    {\"question\": question},\n",
    "    return_only_outputs=True,\n",
    ")"
   ]
  },
  {
   "cell_type": "code",
   "execution_count": 114,
   "id": "1b7f61e8",
   "metadata": {},
   "outputs": [
    {
     "data": {
      "text/plain": [
       "{'answer': 'NetApp is a global cloud-led, data-centric software company that provides intelligent data management software for hybrid multicloud environments.\\n',\n",
       " 'sources': 'https://www.sec.gov/Archives/edgar/data/1002047/000095017023027948/0000950170-23-027948-index.htm'}"
      ]
     },
     "execution_count": 114,
     "metadata": {},
     "output_type": "execute_result"
    }
   ],
   "source": [
    "investment_chain(\n",
    "    {\"question\": question},\n",
    "    return_only_outputs=True,\n",
    ")"
   ]
  },
  {
   "cell_type": "code",
   "execution_count": 115,
   "id": "25344038",
   "metadata": {},
   "outputs": [],
   "source": [
    "question = \"In a single sentence, tell me about Netapp investors.\""
   ]
  },
  {
   "cell_type": "code",
   "execution_count": 116,
   "id": "b64b799c",
   "metadata": {},
   "outputs": [
    {
     "data": {
      "text/plain": [
       "{'answer': 'Netapp investors are diverse and include global enterprises, local businesses, and government installations who look to NetApp and its ecosystem of partners to maximize the business value of their IT and cloud investments.\\n',\n",
       " 'sources': 'https://www.sec.gov/Archives/edgar/data/1002047/000095017023027948/0000950170-23-027948-index.htm'}"
      ]
     },
     "execution_count": 116,
     "metadata": {},
     "output_type": "execute_result"
    }
   ],
   "source": [
    "plain_chain(\n",
    "    {\"question\": question},\n",
    "    return_only_outputs=True,\n",
    ")"
   ]
  },
  {
   "cell_type": "code",
   "execution_count": 117,
   "id": "1737af46",
   "metadata": {},
   "outputs": [
    {
     "data": {
      "text/plain": [
       "{'answer': 'Netapp investors include VANGUARD GROUP INC, BlackRock Inc., and PRIMECAP MANAGEMENT CO/CA/.\\n',\n",
       " 'sources': 'https://www.sec.gov/Archives/edgar/data/1002047/000095017023027948/0000950170-23-027948-index.htm'}"
      ]
     },
     "execution_count": 117,
     "metadata": {},
     "output_type": "execute_result"
    }
   ],
   "source": [
    "investment_chain(\n",
    "    {\"question\": question},\n",
    "    return_only_outputs=True,\n",
    ")"
   ]
  },
  {
   "cell_type": "markdown",
   "id": "07e9ed7e",
   "metadata": {},
   "source": [
    "## Chatting with the SEC Knowledge Graph"
   ]
  },
  {
   "cell_type": "code",
   "execution_count": 118,
   "id": "95672bb2",
   "metadata": {},
   "outputs": [
    {
     "name": "stdout",
     "output_type": "stream",
     "text": [
      "Node properties: Chunk {chunkId: STRING, names: LIST,\n",
      "formId: STRING, cik: STRING, cusip6: STRING, source: STRING,\n",
      "f10kItem: STRING, chunkSeqId: INTEGER, text: STRING,\n",
      "textEmbedding: LIST} Form {formId: STRING, cik: STRING,\n",
      "cusip6: STRING, source: STRING} Company {cusip6: STRING,\n",
      "companyName: STRING, cusip: STRING} Manager {managerCik:\n",
      "STRING, managerName: STRING, managerAddress: STRING} Address\n",
      "{managerCik: STRING, managerName: STRING, address: STRING,\n",
      "zipcode: STRING, city: STRING, state: STRING, street:\n",
      "STRING, addressNumber: STRING, streetName: STRING,\n",
      "streetType: STRING, occupancyType: STRING, occupancyNumber:\n",
      "STRING} Relationship properties: SECTION {f10kItem: STRING}\n",
      "OWNS_STOCK_IN {reportCalendarOrQuarter: STRING, value:\n",
      "FLOAT, shares: INTEGER} The relationships:\n",
      "(:Chunk)-[:NEXT]->(:Chunk) (:Chunk)-[:PART_OF]->(:Form)\n",
      "(:Form)-[:SECTION]->(:Chunk) (:Company)-[:FILED]->(:Form)\n",
      "(:Manager)-[:OWNS_STOCK_IN]->(:Company)\n",
      "(:Manager)-[:LOCATED_AT]->(:Address)\n"
     ]
    }
   ],
   "source": [
    "kg.refresh_schema()\n",
    "print(textwrap.fill(kg.schema, 60))"
   ]
  },
  {
   "cell_type": "markdown",
   "id": "1ffc852f",
   "metadata": {},
   "source": [
    "__Check the address of a random manager__"
   ]
  },
  {
   "cell_type": "code",
   "execution_count": 119,
   "id": "a6ad05cd",
   "metadata": {},
   "outputs": [
    {
     "data": {
      "text/plain": [
       "[{'mgr': {'managerCik': '1000275',\n",
       "   'managerAddress': 'ROYAL BANK PLAZA, 200 BAY STREET, TORONTO, A6, M5J2J5',\n",
       "   'managerName': 'Royal Bank of Canada'},\n",
       "  'addr': {'managerCik': '1000275',\n",
       "   'zipcode': '',\n",
       "   'streetName': 'BAY',\n",
       "   'streetType': 'STREET',\n",
       "   'occupancyType': '',\n",
       "   'address': 'ROYAL BANK PLAZA, 200 BAY STREET, TORONTO, A6, M5J2J5',\n",
       "   'occupancyNumber': '',\n",
       "   'city': 'TORONTO',\n",
       "   'street': '200 BAY STREET',\n",
       "   'addressNumber': '200',\n",
       "   'state': 'A6',\n",
       "   'managerName': 'Royal Bank of Canada'}}]"
      ]
     },
     "execution_count": 119,
     "metadata": {},
     "output_type": "execute_result"
    }
   ],
   "source": [
    "kg.query(\"\"\"\n",
    "MATCH (mgr:Manager)-[:LOCATED_AT]->(addr:Address)\n",
    "RETURN mgr, addr\n",
    "LIMIT 1\n",
    "\"\"\")"
   ]
  },
  {
   "cell_type": "markdown",
   "id": "dbcc5f4b",
   "metadata": {},
   "source": [
    "__Full text search for a manager named Royal Bank__"
   ]
  },
  {
   "cell_type": "code",
   "execution_count": 120,
   "id": "87657944",
   "metadata": {},
   "outputs": [
    {
     "data": {
      "text/plain": [
       "[{'node.managerName': 'Royal Bank of Canada', 'score': 3.7019896507263184}]"
      ]
     },
     "execution_count": 120,
     "metadata": {},
     "output_type": "execute_result"
    }
   ],
   "source": [
    "kg.query(\"\"\"\n",
    "  CALL db.index.fulltext.queryNodes(\n",
    "         \"fullTextManagerNames\", \n",
    "         \"royal bank\") YIELD node, score\n",
    "  RETURN node.managerName, score LIMIT 1\n",
    "\"\"\")"
   ]
  },
  {
   "cell_type": "markdown",
   "id": "6d12bfe3",
   "metadata": {},
   "source": [
    "__Find location of Royal Bank__"
   ]
  },
  {
   "cell_type": "code",
   "execution_count": 121,
   "id": "d02076ea",
   "metadata": {},
   "outputs": [
    {
     "data": {
      "text/plain": [
       "[{'mgr.managerName': 'Royal Bank of Canada',\n",
       "  'addr': {'managerCik': '1000275',\n",
       "   'zipcode': '',\n",
       "   'streetName': 'BAY',\n",
       "   'streetType': 'STREET',\n",
       "   'occupancyType': '',\n",
       "   'address': 'ROYAL BANK PLAZA, 200 BAY STREET, TORONTO, A6, M5J2J5',\n",
       "   'occupancyNumber': '',\n",
       "   'city': 'TORONTO',\n",
       "   'street': '200 BAY STREET',\n",
       "   'addressNumber': '200',\n",
       "   'state': 'A6',\n",
       "   'managerName': 'Royal Bank of Canada'}}]"
      ]
     },
     "execution_count": 121,
     "metadata": {},
     "output_type": "execute_result"
    }
   ],
   "source": [
    "kg.query(\"\"\"\n",
    "CALL db.index.fulltext.queryNodes(\n",
    "         \"fullTextManagerNames\", \n",
    "         \"royal bank\"\n",
    "  ) YIELD node, score\n",
    "WITH node as mgr LIMIT 1\n",
    "MATCH (mgr:Manager)-[:LOCATED_AT]->(addr:Address)\n",
    "RETURN mgr.managerName, addr\n",
    "\"\"\")"
   ]
  },
  {
   "cell_type": "markdown",
   "id": "072338ee",
   "metadata": {},
   "source": [
    "__Determine which state has the most investment firms__"
   ]
  },
  {
   "cell_type": "code",
   "execution_count": 122,
   "id": "a21a1339",
   "metadata": {},
   "outputs": [
    {
     "data": {
      "text/plain": [
       "[{'state': 'NY', 'numManagers': 58},\n",
       " {'state': 'CA', 'numManagers': 56},\n",
       " {'state': '', 'numManagers': 40},\n",
       " {'state': 'MA', 'numManagers': 32},\n",
       " {'state': 'PA', 'numManagers': 30},\n",
       " {'state': 'IL', 'numManagers': 30},\n",
       " {'state': 'FL', 'numManagers': 22},\n",
       " {'state': 'OH', 'numManagers': 19},\n",
       " {'state': 'TX', 'numManagers': 19},\n",
       " {'state': 'NJ', 'numManagers': 14}]"
      ]
     },
     "execution_count": 122,
     "metadata": {},
     "output_type": "execute_result"
    }
   ],
   "source": [
    "kg.query(\"\"\"\n",
    "  MATCH p=(:Manager)-[:LOCATED_AT]->(address:Address)\n",
    "  RETURN address.state as state, count(address.state) as numManagers\n",
    "    ORDER BY numManagers DESC\n",
    "    LIMIT 10\n",
    "\"\"\")"
   ]
  },
  {
   "cell_type": "markdown",
   "id": "888bb8b9",
   "metadata": {},
   "source": [
    "__What are the cities in California with the most investment firms?__"
   ]
  },
  {
   "cell_type": "code",
   "execution_count": 144,
   "id": "4997c5d8",
   "metadata": {},
   "outputs": [
    {
     "data": {
      "text/plain": [
       "[{'city': 'San Francisco', 'numManagers': 6},\n",
       " {'city': 'Los Angeles', 'numManagers': 6},\n",
       " {'city': 'SAN FRANCISCO', 'numManagers': 5},\n",
       " {'city': 'LOS ANGELES', 'numManagers': 4},\n",
       " {'city': 'PASADENA', 'numManagers': 3},\n",
       " {'city': 'SACRAMENTO', 'numManagers': 2},\n",
       " {'city': 'SAN DIEGO', 'numManagers': 2},\n",
       " {'city': 'OAKLAND', 'numManagers': 2},\n",
       " {'city': 'BEVERLY HILLS', 'numManagers': 2},\n",
       " {'city': 'Foster City', 'numManagers': 2}]"
      ]
     },
     "execution_count": 144,
     "metadata": {},
     "output_type": "execute_result"
    }
   ],
   "source": [
    "kg.query(\"\"\"\n",
    "  MATCH p=(:Manager)-[:LOCATED_AT]->(address:Address)\n",
    "         WHERE address.state = 'CA'\n",
    "  RETURN address.city as city, count(address.city) as numManagers\n",
    "    ORDER BY numManagers DESC\n",
    "    LIMIT 10\n",
    "\"\"\")"
   ]
  },
  {
   "cell_type": "markdown",
   "id": "e18bd01d",
   "metadata": {},
   "source": [
    "__What are top investment firms in San Francisco?__"
   ]
  },
  {
   "cell_type": "code",
   "execution_count": 126,
   "id": "ec2b079b",
   "metadata": {},
   "outputs": [
    {
     "data": {
      "text/plain": [
       "[{'mgr.managerName': 'SKBA CAPITAL MANAGEMENT LLC',\n",
       "  'totalInvestmentValue': 13022380000.0},\n",
       " {'mgr.managerName': 'Legato Capital Management LLC',\n",
       "  'totalInvestmentValue': 2991977000.0},\n",
       " {'mgr.managerName': 'INTACT INVESTMENT MANAGEMENT INC.',\n",
       "  'totalInvestmentValue': 2681640000.0},\n",
       " {'mgr.managerName': 'Parallax Volatility Advisers, L.P.',\n",
       "  'totalInvestmentValue': 1481320000.0},\n",
       " {'mgr.managerName': 'WETHERBY ASSET MANAGEMENT INC',\n",
       "  'totalInvestmentValue': 848117000.0},\n",
       " {'mgr.managerName': 'Woodline Partners LP',\n",
       "  'totalInvestmentValue': 327068000.0}]"
      ]
     },
     "execution_count": 126,
     "metadata": {},
     "output_type": "execute_result"
    }
   ],
   "source": [
    "kg.query(\"\"\"\n",
    "  MATCH p=(mgr:Manager)-[:LOCATED_AT]->(address:Address),\n",
    "         (mgr)-[owns:OWNS_STOCK_IN]->(:Company)\n",
    "         WHERE address.city = \"San Francisco\"\n",
    "  RETURN mgr.managerName, sum(owns.value) as totalInvestmentValue\n",
    "    ORDER BY totalInvestmentValue DESC\n",
    "    LIMIT 10\n",
    "\"\"\")"
   ]
  },
  {
   "cell_type": "markdown",
   "id": "66a78e85",
   "metadata": {},
   "source": [
    "### Writing Cypher with an LLM"
   ]
  },
  {
   "cell_type": "markdown",
   "id": "52d3b561",
   "metadata": {},
   "source": [
    "- Using OpenAI's GPT 3.5 model\n",
    "- Using Neo4j integration within LangChain called __`GraphCypherQAChain`__"
   ]
  },
  {
   "cell_type": "code",
   "execution_count": 154,
   "id": "774b86b7",
   "metadata": {},
   "outputs": [],
   "source": [
    "CYPHER_GENERATION_TEMPLATE = \"\"\"Task:Generate Cypher statement to \n",
    "query a graph database.\n",
    "Instructions:\n",
    "Use only the provided relationship types and properties in the \n",
    "schema. Do not use any other relationship types or properties that \n",
    "are not provided.\n",
    "Schema:\n",
    "{schema}\n",
    "Note: Do not include any explanations or apologies in your responses.\n",
    "Do not respond to any questions that might ask anything else than \n",
    "for you to construct a Cypher statement.\n",
    "Do not include any text except the generated Cypher statement.\n",
    "Examples: Here are a few examples of generated Cypher \n",
    "statements for particular questions:\n",
    "\n",
    "# What management firms are in San Francisco?\n",
    "MATCH (mgr:Manager)-[:LOCATED_AT]->(mgrAddress:Address)\n",
    "    WHERE mgrAddress.city = 'San Francisco'\n",
    "RETURN mgr.managerName\n",
    "The question is:\n",
    "{question}\"\"\""
   ]
  },
  {
   "cell_type": "code",
   "execution_count": 155,
   "id": "840764a6",
   "metadata": {},
   "outputs": [],
   "source": [
    "CYPHER_GENERATION_PROMPT = PromptTemplate(\n",
    "    input_variables=[\"schema\", \"question\"], \n",
    "    template=CYPHER_GENERATION_TEMPLATE\n",
    ")"
   ]
  },
  {
   "cell_type": "code",
   "execution_count": 156,
   "id": "cd746545",
   "metadata": {},
   "outputs": [],
   "source": [
    "cypherChain = GraphCypherQAChain.from_llm(\n",
    "    ChatOpenAI(temperature=0),\n",
    "    graph=kg,\n",
    "    verbose=True,\n",
    "    cypher_prompt=CYPHER_GENERATION_PROMPT,\n",
    ")"
   ]
  },
  {
   "cell_type": "code",
   "execution_count": 157,
   "id": "0b1d64b5",
   "metadata": {},
   "outputs": [],
   "source": [
    "def prettyCypherChain(question: str) -> str:\n",
    "    response = cypherChain.run(question)\n",
    "    print(textwrap.fill(response, 60))"
   ]
  },
  {
   "cell_type": "code",
   "execution_count": 158,
   "id": "62933bc1",
   "metadata": {},
   "outputs": [
    {
     "name": "stdout",
     "output_type": "stream",
     "text": [
      "\n",
      "\n",
      "\u001b[1m> Entering new GraphCypherQAChain chain...\u001b[0m\n",
      "Generated Cypher:\n",
      "\u001b[32;1m\u001b[1;3mMATCH (mgr:Manager)-[:LOCATED_AT]->(mgrAddress:Address)\n",
      "    WHERE mgrAddress.city = 'San Francisco'\n",
      "RETURN mgr.managerName\u001b[0m\n",
      "Full Context:\n",
      "\u001b[32;1m\u001b[1;3m[{'mgr.managerName': 'WETHERBY ASSET MANAGEMENT INC'}, {'mgr.managerName': 'Legato Capital Management LLC'}, {'mgr.managerName': 'INTACT INVESTMENT MANAGEMENT INC.'}, {'mgr.managerName': 'Parallax Volatility Advisers, L.P.'}, {'mgr.managerName': 'Woodline Partners LP'}, {'mgr.managerName': 'SKBA CAPITAL MANAGEMENT LLC'}]\u001b[0m\n",
      "\n",
      "\u001b[1m> Finished chain.\u001b[0m\n",
      "WETHERBY ASSET MANAGEMENT INC, Legato Capital Management\n",
      "LLC, INTACT INVESTMENT MANAGEMENT INC., Parallax Volatility\n",
      "Advisers, L.P., Woodline Partners LP, SKBA CAPITAL\n",
      "MANAGEMENT LLC are management firms in San Francisco.\n"
     ]
    }
   ],
   "source": [
    "prettyCypherChain(\"What management firms are in San Francisco?\")"
   ]
  },
  {
   "cell_type": "code",
   "execution_count": 160,
   "id": "36c6e0b4",
   "metadata": {},
   "outputs": [
    {
     "name": "stdout",
     "output_type": "stream",
     "text": [
      "\n",
      "\n",
      "\u001b[1m> Entering new GraphCypherQAChain chain...\u001b[0m\n",
      "Generated Cypher:\n",
      "\u001b[32;1m\u001b[1;3mMATCH (mgr:Manager)-[:LOCATED_AT]->(mgrAddress:Address)\n",
      "    WHERE mgrAddress.city = 'Toronto'\n",
      "RETURN mgr.managerName\u001b[0m\n",
      "Full Context:\n",
      "\u001b[32;1m\u001b[1;3m[{'mgr.managerName': 'Hillsdale Investment Management Inc.'}, {'mgr.managerName': 'State of Alaska, Department of Revenue'}, {'mgr.managerName': 'ONTARIO TEACHERS PENSION PLAN BOARD'}]\u001b[0m\n",
      "\n",
      "\u001b[1m> Finished chain.\u001b[0m\n",
      "Hillsdale Investment Management Inc., ONTARIO TEACHERS\n",
      "PENSION PLAN BOARD are management firms in Toronto.\n"
     ]
    }
   ],
   "source": [
    "prettyCypherChain(\"What management firms are in Toronto?\")"
   ]
  },
  {
   "cell_type": "code",
   "execution_count": 161,
   "id": "2125fd41",
   "metadata": {},
   "outputs": [
    {
     "name": "stdout",
     "output_type": "stream",
     "text": [
      "\n",
      "\n",
      "\u001b[1m> Entering new GraphCypherQAChain chain...\u001b[0m\n",
      "Generated Cypher:\n",
      "\u001b[32;1m\u001b[1;3mMATCH (mgr:Manager)-[:LOCATED_AT]->(mgrAddress:Address)\n",
      "    WHERE mgrAddress.city = 'Kansas City'\n",
      "RETURN mgr.managerName\u001b[0m\n",
      "Full Context:\n",
      "\u001b[32;1m\u001b[1;3m[{'mgr.managerName': 'UMB Bank, n.a.'}]\u001b[0m\n",
      "\n",
      "\u001b[1m> Finished chain.\u001b[0m\n",
      "UMB Bank, n.a. is an investment firm located in Kansas City.\n"
     ]
    }
   ],
   "source": [
    "prettyCypherChain(\"What investment firms are in Kanas City?\")"
   ]
  },
  {
   "cell_type": "code",
   "execution_count": null,
   "id": "cddc2481",
   "metadata": {},
   "outputs": [],
   "source": []
  }
 ],
 "metadata": {
  "kernelspec": {
   "display_name": "Python 3 (ipykernel)",
   "language": "python",
   "name": "python3"
  },
  "language_info": {
   "codemirror_mode": {
    "name": "ipython",
    "version": 3
   },
   "file_extension": ".py",
   "mimetype": "text/x-python",
   "name": "python",
   "nbconvert_exporter": "python",
   "pygments_lexer": "ipython3",
   "version": "3.9.19"
  }
 },
 "nbformat": 4,
 "nbformat_minor": 5
}
